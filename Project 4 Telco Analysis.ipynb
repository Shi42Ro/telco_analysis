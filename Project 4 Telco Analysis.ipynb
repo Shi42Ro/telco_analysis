{
 "cells": [
  {
   "cell_type": "markdown",
   "metadata": {},
   "source": [
    "# ANALYSIS OF CLIENT BEHAVIOUR AND CHOOSING MORE PROFITABLE PREPAID PLAN"
   ]
  },
  {
   "cell_type": "markdown",
   "metadata": {},
   "source": [
    "# Introduction <a id='intro'></a>\n",
    "\n",
    "- An analysis for Megaline, a telecom operator are conducted. Megaline offers two prepaid plans, Surf and Ultimate. The company's commercial department seeks to determine which plan generates higher revenue to make adjustments to the advertising budget. The study will focus on analyzing client behavior using the available data.\n",
    "\n",
    "\n",
    "> Calls table (data on calls):\n",
    "> - id — unique call identifier\n",
    "> - call_date — call date\n",
    "> - duration — call duration (in minutes)\n",
    "> - user_id — the identifier of the user making the call\n",
    "\n",
    "> Internet table (data on web sessions):\n",
    "> - id — unique session identifier\n",
    "> - mb_used — the volume of data spent during the session (in megabytes)\n",
    "> - session_date — web session date\n",
    "> - user_id — user identifier\n",
    "\n",
    "> Messages table (data on texts):\n",
    "> - id — unique text message identifier\n",
    "> - message_date — text message date\n",
    "> - user_id — the identifier of the user sending the text\n",
    "\n",
    ">  Plans table (data on the plans):\n",
    "> - plan_name — calling plan name\n",
    "> - usd_monthly_fee — monthly charge in US dollars\n",
    "> - minutes_included — monthly minute allowance\n",
    "> - messages_included — monthly text allowance\n",
    "> - mb_per_month_included — data volume allowance (in megabytes)\n",
    "> - usd_per_minute — price per minute after exceeding the package limits (e.g., if the package includes 100 minutes, the 101st > - minute will be charged)\n",
    "> - usd_per_message — price per text after exceeding the package limits\n",
    "> - usd_per_gb — price per extra gigabyte of data after exceeding the package limits (1 GB = 1024 megabytes)\n",
    "\n",
    "> Users table (data on users)\n",
    "> - user_id — unique user identifier\n",
    "> - first_name — user's name\n",
    "> - last_name — user's last name\n",
    "> - age — user's age (years)\n",
    "> - reg_date — subscription date (dd, mm, yy)\n",
    "> - churn_date — the date the user stopped using the service (if the value is missing, the calling plan was being used when this \n",
    "> - database was extracted)\n",
    ">- city — user's city of residence\n",
    "> - plan — calling plan name\n",
    "\n",
    "## Goals:\n",
    "\n",
    "- To determine which prepaid plan generates higher revenue\n",
    "- To determine which area had higher revenue, either NY-NJ or other than that"
   ]
  },
  {
   "cell_type": "markdown",
   "metadata": {},
   "source": [
    "<a id=\"0\"></a> <br>\n",
    " # Table of Contents  \n",
    "1. [Stage 1: Data Overview](#1)\n",
    "    1. [Calls](#2) \n",
    "    1. [Internet](#3) \n",
    "    1. [Messages](#4) \n",
    "    1. [Plans](#5) \n",
    "    1. [Users](#6) \n",
    "1. [Stage 2: Data Preprocessing](#7) \n",
    "    1. ['Calls' table](#8) \n",
    "    1. ['Internet' table](#9) \n",
    "    1. ['Messages' table](#10) \n",
    "    1. ['Plans' table](#11) \n",
    "    1. ['Users' table](#12) \n",
    "    1. [Number of Calls by Users per Month](#13) \n",
    "    1. [Number of Total Minutes Used per Month](#14) \n",
    "    1. [Number of messages made per month](#15)\n",
    "    1. [Number of volume for internet traffic made per month](#16) \n",
    "    1. [Combine all 'plans'. 'users' and other aggregated data](#17) \n",
    "    1. [Monthly revenue from each user](#18) \n",
    "    1. [Column: Region](#19) \n",
    "1. [Stage 3: Exploratory Data Analysis](#20)       \n",
    "    1. [(1) Analyzing the behavior of 'surf' user](#21)\n",
    "       1. [Minutes per month analysis](#22)\n",
    "       1. [Messages per month analysis](#23)\n",
    "       1. [Data Volume analysis](#24)\n",
    "    1. [(2) Analyzing the behavior of 'ultimate' user](#25)\n",
    "       1. [Minutes per month analysis](#26)\n",
    "       1. [Messages per month analysis](#27)\n",
    "       1. [Data Volume analysis](#28)\n",
    "1. [Stage 4: Hypothesis Testing](#29) \n",
    "    1. [Hypothesis 1: \"The average profit from users of Ultimate and Surf calling plans differs\"](#30) \n",
    "    1. [Hypothesis 2: \"The average revenue from users in the NY-NJ area is different from that of the users from the other regions.\"](#31) \n",
    "1. [Stage 5: General Conclusion](#32) "
   ]
  },
  {
   "cell_type": "markdown",
   "metadata": {},
   "source": [
    "<a id=\"1\"></a> \n",
    "# Stage 1 : Data Overview "
   ]
  },
  {
   "cell_type": "code",
   "execution_count": 1,
   "metadata": {},
   "outputs": [
    {
     "name": "stdout",
     "output_type": "stream",
     "text": [
      "Collecting missingno\n",
      "  Downloading missingno-0.5.2-py3-none-any.whl (8.7 kB)\n",
      "Requirement already satisfied: seaborn in /opt/conda/lib/python3.9/site-packages (from missingno) (0.11.1)\n",
      "Requirement already satisfied: scipy in /opt/conda/lib/python3.9/site-packages (from missingno) (1.8.0)\n",
      "Requirement already satisfied: matplotlib in /opt/conda/lib/python3.9/site-packages (from missingno) (3.3.4)\n",
      "Requirement already satisfied: numpy in /opt/conda/lib/python3.9/site-packages (from missingno) (1.21.1)\n",
      "Requirement already satisfied: kiwisolver>=1.0.1 in /opt/conda/lib/python3.9/site-packages (from matplotlib->missingno) (1.4.2)\n",
      "Requirement already satisfied: cycler>=0.10 in /opt/conda/lib/python3.9/site-packages (from matplotlib->missingno) (0.11.0)\n",
      "Requirement already satisfied: python-dateutil>=2.1 in /opt/conda/lib/python3.9/site-packages (from matplotlib->missingno) (2.8.1)\n",
      "Requirement already satisfied: pillow>=6.2.0 in /opt/conda/lib/python3.9/site-packages (from matplotlib->missingno) (8.4.0)\n",
      "Requirement already satisfied: pyparsing!=2.0.4,!=2.1.2,!=2.1.6,>=2.0.3 in /opt/conda/lib/python3.9/site-packages (from matplotlib->missingno) (2.4.7)\n",
      "Requirement already satisfied: six>=1.5 in /opt/conda/lib/python3.9/site-packages (from python-dateutil>=2.1->matplotlib->missingno) (1.16.0)\n",
      "Requirement already satisfied: pandas>=0.23 in /opt/conda/lib/python3.9/site-packages (from seaborn->missingno) (1.2.4)\n",
      "Requirement already satisfied: pytz>=2017.3 in /opt/conda/lib/python3.9/site-packages (from pandas>=0.23->seaborn->missingno) (2021.1)\n",
      "Installing collected packages: missingno\n",
      "Successfully installed missingno-0.5.2\n"
     ]
    }
   ],
   "source": [
    "!pip install missingno"
   ]
  },
  {
   "cell_type": "code",
   "execution_count": 2,
   "metadata": {},
   "outputs": [],
   "source": [
    "from scipy import stats as st #for probability and calculation of statistics\n",
    "import pandas as pd #for dataframe manipulation\n",
    "import numpy as np #for advanced mathematic operation\n",
    "import matplotlib.pyplot as plt #for plotting and visualize graph\n",
    "import seaborn as sns\n",
    "import missingno as msno # visualize missing data in table form\n",
    "import nltk #for string/text manipulation"
   ]
  },
  {
   "cell_type": "code",
   "execution_count": 3,
   "metadata": {},
   "outputs": [],
   "source": [
    "calls = pd.read_csv('/datasets/megaline_calls.csv')\n",
    "internet = pd.read_csv('/datasets/megaline_internet.csv')\n",
    "messages = pd.read_csv('/datasets/megaline_messages.csv')\n",
    "plans = pd.read_csv('/datasets/megaline_plans.csv')\n",
    "users = pd.read_csv('/datasets/megaline_users.csv')\n",
    "\n",
    "# read the prepared file and turned it to dataframe"
   ]
  },
  {
   "cell_type": "markdown",
   "metadata": {},
   "source": [
    "<a id=\"2\"></a> \n",
    "## Calls\n",
    "- Calls dataframe contained info on calls made by each user"
   ]
  },
  {
   "cell_type": "code",
   "execution_count": 4,
   "metadata": {},
   "outputs": [
    {
     "name": "stdout",
     "output_type": "stream",
     "text": [
      "<class 'pandas.core.frame.DataFrame'>\n",
      "RangeIndex: 137735 entries, 0 to 137734\n",
      "Data columns (total 4 columns):\n",
      " #   Column     Non-Null Count   Dtype  \n",
      "---  ------     --------------   -----  \n",
      " 0   id         137735 non-null  object \n",
      " 1   user_id    137735 non-null  int64  \n",
      " 2   call_date  137735 non-null  object \n",
      " 3   duration   137735 non-null  float64\n",
      "dtypes: float64(1), int64(1), object(2)\n",
      "memory usage: 4.2+ MB\n"
     ]
    }
   ],
   "source": [
    "calls.info(verbose=True) #finding general info on calls dataframe "
   ]
  },
  {
   "cell_type": "code",
   "execution_count": 5,
   "metadata": {},
   "outputs": [
    {
     "data": {
      "text/html": [
       "<div>\n",
       "<style scoped>\n",
       "    .dataframe tbody tr th:only-of-type {\n",
       "        vertical-align: middle;\n",
       "    }\n",
       "\n",
       "    .dataframe tbody tr th {\n",
       "        vertical-align: top;\n",
       "    }\n",
       "\n",
       "    .dataframe thead th {\n",
       "        text-align: right;\n",
       "    }\n",
       "</style>\n",
       "<table border=\"1\" class=\"dataframe\">\n",
       "  <thead>\n",
       "    <tr style=\"text-align: right;\">\n",
       "      <th></th>\n",
       "      <th>id</th>\n",
       "      <th>user_id</th>\n",
       "      <th>call_date</th>\n",
       "      <th>duration</th>\n",
       "    </tr>\n",
       "  </thead>\n",
       "  <tbody>\n",
       "    <tr>\n",
       "      <th>0</th>\n",
       "      <td>1000_93</td>\n",
       "      <td>1000</td>\n",
       "      <td>2018-12-27</td>\n",
       "      <td>8.52</td>\n",
       "    </tr>\n",
       "    <tr>\n",
       "      <th>1</th>\n",
       "      <td>1000_145</td>\n",
       "      <td>1000</td>\n",
       "      <td>2018-12-27</td>\n",
       "      <td>13.66</td>\n",
       "    </tr>\n",
       "    <tr>\n",
       "      <th>2</th>\n",
       "      <td>1000_247</td>\n",
       "      <td>1000</td>\n",
       "      <td>2018-12-27</td>\n",
       "      <td>14.48</td>\n",
       "    </tr>\n",
       "    <tr>\n",
       "      <th>3</th>\n",
       "      <td>1000_309</td>\n",
       "      <td>1000</td>\n",
       "      <td>2018-12-28</td>\n",
       "      <td>5.76</td>\n",
       "    </tr>\n",
       "    <tr>\n",
       "      <th>4</th>\n",
       "      <td>1000_380</td>\n",
       "      <td>1000</td>\n",
       "      <td>2018-12-30</td>\n",
       "      <td>4.22</td>\n",
       "    </tr>\n",
       "  </tbody>\n",
       "</table>\n",
       "</div>"
      ],
      "text/plain": [
       "         id  user_id   call_date  duration\n",
       "0   1000_93     1000  2018-12-27      8.52\n",
       "1  1000_145     1000  2018-12-27     13.66\n",
       "2  1000_247     1000  2018-12-27     14.48\n",
       "3  1000_309     1000  2018-12-28      5.76\n",
       "4  1000_380     1000  2018-12-30      4.22"
      ]
     },
     "execution_count": 5,
     "metadata": {},
     "output_type": "execute_result"
    }
   ],
   "source": [
    "calls.head() #print first five row dataframe of calls"
   ]
  },
  {
   "cell_type": "markdown",
   "metadata": {},
   "source": [
    " 1. For calls dataframe, the call date needed to be changed into datetime type instead of object\n",
    " 2. Duration needed to be rounded up instead of in decimal points"
   ]
  },
  {
   "cell_type": "code",
   "execution_count": 6,
   "metadata": {},
   "outputs": [
    {
     "data": {
      "text/plain": [
       "0"
      ]
     },
     "execution_count": 6,
     "metadata": {},
     "output_type": "execute_result"
    }
   ],
   "source": [
    "calls_duplicates = calls.duplicated().sum()\n",
    "calls_duplicates #print duplicate data for calls"
   ]
  },
  {
   "cell_type": "markdown",
   "metadata": {},
   "source": [
    "<a id=\"3\"></a> \n",
    "## Internet\n",
    "- Calls dataframe contained info on volume data used by each user"
   ]
  },
  {
   "cell_type": "code",
   "execution_count": 7,
   "metadata": {},
   "outputs": [
    {
     "name": "stdout",
     "output_type": "stream",
     "text": [
      "<class 'pandas.core.frame.DataFrame'>\n",
      "RangeIndex: 104825 entries, 0 to 104824\n",
      "Data columns (total 4 columns):\n",
      " #   Column        Non-Null Count   Dtype  \n",
      "---  ------        --------------   -----  \n",
      " 0   id            104825 non-null  object \n",
      " 1   user_id       104825 non-null  int64  \n",
      " 2   session_date  104825 non-null  object \n",
      " 3   mb_used       104825 non-null  float64\n",
      "dtypes: float64(1), int64(1), object(2)\n",
      "memory usage: 3.2+ MB\n"
     ]
    }
   ],
   "source": [
    "internet.info(verbose=True)"
   ]
  },
  {
   "cell_type": "code",
   "execution_count": 8,
   "metadata": {},
   "outputs": [
    {
     "data": {
      "text/html": [
       "<div>\n",
       "<style scoped>\n",
       "    .dataframe tbody tr th:only-of-type {\n",
       "        vertical-align: middle;\n",
       "    }\n",
       "\n",
       "    .dataframe tbody tr th {\n",
       "        vertical-align: top;\n",
       "    }\n",
       "\n",
       "    .dataframe thead th {\n",
       "        text-align: right;\n",
       "    }\n",
       "</style>\n",
       "<table border=\"1\" class=\"dataframe\">\n",
       "  <thead>\n",
       "    <tr style=\"text-align: right;\">\n",
       "      <th></th>\n",
       "      <th>id</th>\n",
       "      <th>user_id</th>\n",
       "      <th>session_date</th>\n",
       "      <th>mb_used</th>\n",
       "    </tr>\n",
       "  </thead>\n",
       "  <tbody>\n",
       "    <tr>\n",
       "      <th>0</th>\n",
       "      <td>1000_13</td>\n",
       "      <td>1000</td>\n",
       "      <td>2018-12-29</td>\n",
       "      <td>89.86</td>\n",
       "    </tr>\n",
       "    <tr>\n",
       "      <th>1</th>\n",
       "      <td>1000_204</td>\n",
       "      <td>1000</td>\n",
       "      <td>2018-12-31</td>\n",
       "      <td>0.00</td>\n",
       "    </tr>\n",
       "    <tr>\n",
       "      <th>2</th>\n",
       "      <td>1000_379</td>\n",
       "      <td>1000</td>\n",
       "      <td>2018-12-28</td>\n",
       "      <td>660.40</td>\n",
       "    </tr>\n",
       "    <tr>\n",
       "      <th>3</th>\n",
       "      <td>1000_413</td>\n",
       "      <td>1000</td>\n",
       "      <td>2018-12-26</td>\n",
       "      <td>270.99</td>\n",
       "    </tr>\n",
       "    <tr>\n",
       "      <th>4</th>\n",
       "      <td>1000_442</td>\n",
       "      <td>1000</td>\n",
       "      <td>2018-12-27</td>\n",
       "      <td>880.22</td>\n",
       "    </tr>\n",
       "  </tbody>\n",
       "</table>\n",
       "</div>"
      ],
      "text/plain": [
       "         id  user_id session_date  mb_used\n",
       "0   1000_13     1000   2018-12-29    89.86\n",
       "1  1000_204     1000   2018-12-31     0.00\n",
       "2  1000_379     1000   2018-12-28   660.40\n",
       "3  1000_413     1000   2018-12-26   270.99\n",
       "4  1000_442     1000   2018-12-27   880.22"
      ]
     },
     "execution_count": 8,
     "metadata": {},
     "output_type": "execute_result"
    }
   ],
   "source": [
    "internet.head()"
   ]
  },
  {
   "cell_type": "markdown",
   "metadata": {},
   "source": [
    "1. For internet dataframe, the session_date needed to be changed into datetime type instead of object\n",
    "2. mb_used data needed to be converted to Gigabytes, then rund them up"
   ]
  },
  {
   "cell_type": "markdown",
   "metadata": {},
   "source": [
    "<a id=\"4\"></a> \n",
    "## Messages\n",
    "- Calls dataframe contained info on messages made by each user"
   ]
  },
  {
   "cell_type": "code",
   "execution_count": 9,
   "metadata": {},
   "outputs": [
    {
     "name": "stdout",
     "output_type": "stream",
     "text": [
      "<class 'pandas.core.frame.DataFrame'>\n",
      "RangeIndex: 76051 entries, 0 to 76050\n",
      "Data columns (total 3 columns):\n",
      " #   Column        Non-Null Count  Dtype \n",
      "---  ------        --------------  ----- \n",
      " 0   id            76051 non-null  object\n",
      " 1   user_id       76051 non-null  int64 \n",
      " 2   message_date  76051 non-null  object\n",
      "dtypes: int64(1), object(2)\n",
      "memory usage: 1.7+ MB\n"
     ]
    }
   ],
   "source": [
    "messages.info(verbose=True)"
   ]
  },
  {
   "cell_type": "code",
   "execution_count": 10,
   "metadata": {},
   "outputs": [
    {
     "data": {
      "text/html": [
       "<div>\n",
       "<style scoped>\n",
       "    .dataframe tbody tr th:only-of-type {\n",
       "        vertical-align: middle;\n",
       "    }\n",
       "\n",
       "    .dataframe tbody tr th {\n",
       "        vertical-align: top;\n",
       "    }\n",
       "\n",
       "    .dataframe thead th {\n",
       "        text-align: right;\n",
       "    }\n",
       "</style>\n",
       "<table border=\"1\" class=\"dataframe\">\n",
       "  <thead>\n",
       "    <tr style=\"text-align: right;\">\n",
       "      <th></th>\n",
       "      <th>id</th>\n",
       "      <th>user_id</th>\n",
       "      <th>message_date</th>\n",
       "    </tr>\n",
       "  </thead>\n",
       "  <tbody>\n",
       "    <tr>\n",
       "      <th>0</th>\n",
       "      <td>1000_125</td>\n",
       "      <td>1000</td>\n",
       "      <td>2018-12-27</td>\n",
       "    </tr>\n",
       "    <tr>\n",
       "      <th>1</th>\n",
       "      <td>1000_160</td>\n",
       "      <td>1000</td>\n",
       "      <td>2018-12-31</td>\n",
       "    </tr>\n",
       "    <tr>\n",
       "      <th>2</th>\n",
       "      <td>1000_223</td>\n",
       "      <td>1000</td>\n",
       "      <td>2018-12-31</td>\n",
       "    </tr>\n",
       "    <tr>\n",
       "      <th>3</th>\n",
       "      <td>1000_251</td>\n",
       "      <td>1000</td>\n",
       "      <td>2018-12-27</td>\n",
       "    </tr>\n",
       "    <tr>\n",
       "      <th>4</th>\n",
       "      <td>1000_255</td>\n",
       "      <td>1000</td>\n",
       "      <td>2018-12-26</td>\n",
       "    </tr>\n",
       "  </tbody>\n",
       "</table>\n",
       "</div>"
      ],
      "text/plain": [
       "         id  user_id message_date\n",
       "0  1000_125     1000   2018-12-27\n",
       "1  1000_160     1000   2018-12-31\n",
       "2  1000_223     1000   2018-12-31\n",
       "3  1000_251     1000   2018-12-27\n",
       "4  1000_255     1000   2018-12-26"
      ]
     },
     "execution_count": 10,
     "metadata": {},
     "output_type": "execute_result"
    }
   ],
   "source": [
    "messages.head()"
   ]
  },
  {
   "cell_type": "markdown",
   "metadata": {},
   "source": [
    "1. For messages dataframe, the message_date needed to be changed into datetime type instead of object"
   ]
  },
  {
   "cell_type": "markdown",
   "metadata": {},
   "source": [
    "<a id=\"5\"></a> \n",
    "## Plans\n",
    "- Calls dataframe contained info on plans offered by Megaline"
   ]
  },
  {
   "cell_type": "code",
   "execution_count": 11,
   "metadata": {},
   "outputs": [
    {
     "name": "stdout",
     "output_type": "stream",
     "text": [
      "<class 'pandas.core.frame.DataFrame'>\n",
      "RangeIndex: 2 entries, 0 to 1\n",
      "Data columns (total 8 columns):\n",
      " #   Column                 Non-Null Count  Dtype  \n",
      "---  ------                 --------------  -----  \n",
      " 0   messages_included      2 non-null      int64  \n",
      " 1   mb_per_month_included  2 non-null      int64  \n",
      " 2   minutes_included       2 non-null      int64  \n",
      " 3   usd_monthly_pay        2 non-null      int64  \n",
      " 4   usd_per_gb             2 non-null      int64  \n",
      " 5   usd_per_message        2 non-null      float64\n",
      " 6   usd_per_minute         2 non-null      float64\n",
      " 7   plan_name              2 non-null      object \n",
      "dtypes: float64(2), int64(5), object(1)\n",
      "memory usage: 256.0+ bytes\n"
     ]
    }
   ],
   "source": [
    "plans.info(verbose=True)"
   ]
  },
  {
   "cell_type": "code",
   "execution_count": 12,
   "metadata": {},
   "outputs": [
    {
     "data": {
      "text/html": [
       "<div>\n",
       "<style scoped>\n",
       "    .dataframe tbody tr th:only-of-type {\n",
       "        vertical-align: middle;\n",
       "    }\n",
       "\n",
       "    .dataframe tbody tr th {\n",
       "        vertical-align: top;\n",
       "    }\n",
       "\n",
       "    .dataframe thead th {\n",
       "        text-align: right;\n",
       "    }\n",
       "</style>\n",
       "<table border=\"1\" class=\"dataframe\">\n",
       "  <thead>\n",
       "    <tr style=\"text-align: right;\">\n",
       "      <th></th>\n",
       "      <th>messages_included</th>\n",
       "      <th>mb_per_month_included</th>\n",
       "      <th>minutes_included</th>\n",
       "      <th>usd_monthly_pay</th>\n",
       "      <th>usd_per_gb</th>\n",
       "      <th>usd_per_message</th>\n",
       "      <th>usd_per_minute</th>\n",
       "      <th>plan_name</th>\n",
       "    </tr>\n",
       "  </thead>\n",
       "  <tbody>\n",
       "    <tr>\n",
       "      <th>0</th>\n",
       "      <td>50</td>\n",
       "      <td>15360</td>\n",
       "      <td>500</td>\n",
       "      <td>20</td>\n",
       "      <td>10</td>\n",
       "      <td>0.03</td>\n",
       "      <td>0.03</td>\n",
       "      <td>surf</td>\n",
       "    </tr>\n",
       "    <tr>\n",
       "      <th>1</th>\n",
       "      <td>1000</td>\n",
       "      <td>30720</td>\n",
       "      <td>3000</td>\n",
       "      <td>70</td>\n",
       "      <td>7</td>\n",
       "      <td>0.01</td>\n",
       "      <td>0.01</td>\n",
       "      <td>ultimate</td>\n",
       "    </tr>\n",
       "  </tbody>\n",
       "</table>\n",
       "</div>"
      ],
      "text/plain": [
       "   messages_included  mb_per_month_included  minutes_included  \\\n",
       "0                 50                  15360               500   \n",
       "1               1000                  30720              3000   \n",
       "\n",
       "   usd_monthly_pay  usd_per_gb  usd_per_message  usd_per_minute plan_name  \n",
       "0               20          10             0.03            0.03      surf  \n",
       "1               70           7             0.01            0.01  ultimate  "
      ]
     },
     "execution_count": 12,
     "metadata": {},
     "output_type": "execute_result"
    }
   ],
   "source": [
    "plans.head()"
   ]
  },
  {
   "cell_type": "markdown",
   "metadata": {},
   "source": [
    "<a id=\"6\"></a> \n",
    "## Users\n",
    "- Calls dataframe contained info on users"
   ]
  },
  {
   "cell_type": "code",
   "execution_count": 13,
   "metadata": {},
   "outputs": [
    {
     "name": "stdout",
     "output_type": "stream",
     "text": [
      "<class 'pandas.core.frame.DataFrame'>\n",
      "RangeIndex: 500 entries, 0 to 499\n",
      "Data columns (total 8 columns):\n",
      " #   Column      Non-Null Count  Dtype \n",
      "---  ------      --------------  ----- \n",
      " 0   user_id     500 non-null    int64 \n",
      " 1   first_name  500 non-null    object\n",
      " 2   last_name   500 non-null    object\n",
      " 3   age         500 non-null    int64 \n",
      " 4   city        500 non-null    object\n",
      " 5   reg_date    500 non-null    object\n",
      " 6   plan        500 non-null    object\n",
      " 7   churn_date  34 non-null     object\n",
      "dtypes: int64(2), object(6)\n",
      "memory usage: 31.4+ KB\n"
     ]
    }
   ],
   "source": [
    "users.info(verbose=True)"
   ]
  },
  {
   "cell_type": "code",
   "execution_count": 14,
   "metadata": {},
   "outputs": [
    {
     "data": {
      "text/html": [
       "<div>\n",
       "<style scoped>\n",
       "    .dataframe tbody tr th:only-of-type {\n",
       "        vertical-align: middle;\n",
       "    }\n",
       "\n",
       "    .dataframe tbody tr th {\n",
       "        vertical-align: top;\n",
       "    }\n",
       "\n",
       "    .dataframe thead th {\n",
       "        text-align: right;\n",
       "    }\n",
       "</style>\n",
       "<table border=\"1\" class=\"dataframe\">\n",
       "  <thead>\n",
       "    <tr style=\"text-align: right;\">\n",
       "      <th></th>\n",
       "      <th>user_id</th>\n",
       "      <th>first_name</th>\n",
       "      <th>last_name</th>\n",
       "      <th>age</th>\n",
       "      <th>city</th>\n",
       "      <th>reg_date</th>\n",
       "      <th>plan</th>\n",
       "      <th>churn_date</th>\n",
       "    </tr>\n",
       "  </thead>\n",
       "  <tbody>\n",
       "    <tr>\n",
       "      <th>0</th>\n",
       "      <td>1000</td>\n",
       "      <td>Anamaria</td>\n",
       "      <td>Bauer</td>\n",
       "      <td>45</td>\n",
       "      <td>Atlanta-Sandy Springs-Roswell, GA MSA</td>\n",
       "      <td>2018-12-24</td>\n",
       "      <td>ultimate</td>\n",
       "      <td>NaN</td>\n",
       "    </tr>\n",
       "    <tr>\n",
       "      <th>1</th>\n",
       "      <td>1001</td>\n",
       "      <td>Mickey</td>\n",
       "      <td>Wilkerson</td>\n",
       "      <td>28</td>\n",
       "      <td>Seattle-Tacoma-Bellevue, WA MSA</td>\n",
       "      <td>2018-08-13</td>\n",
       "      <td>surf</td>\n",
       "      <td>NaN</td>\n",
       "    </tr>\n",
       "    <tr>\n",
       "      <th>2</th>\n",
       "      <td>1002</td>\n",
       "      <td>Carlee</td>\n",
       "      <td>Hoffman</td>\n",
       "      <td>36</td>\n",
       "      <td>Las Vegas-Henderson-Paradise, NV MSA</td>\n",
       "      <td>2018-10-21</td>\n",
       "      <td>surf</td>\n",
       "      <td>NaN</td>\n",
       "    </tr>\n",
       "    <tr>\n",
       "      <th>3</th>\n",
       "      <td>1003</td>\n",
       "      <td>Reynaldo</td>\n",
       "      <td>Jenkins</td>\n",
       "      <td>52</td>\n",
       "      <td>Tulsa, OK MSA</td>\n",
       "      <td>2018-01-28</td>\n",
       "      <td>surf</td>\n",
       "      <td>NaN</td>\n",
       "    </tr>\n",
       "    <tr>\n",
       "      <th>4</th>\n",
       "      <td>1004</td>\n",
       "      <td>Leonila</td>\n",
       "      <td>Thompson</td>\n",
       "      <td>40</td>\n",
       "      <td>Seattle-Tacoma-Bellevue, WA MSA</td>\n",
       "      <td>2018-05-23</td>\n",
       "      <td>surf</td>\n",
       "      <td>NaN</td>\n",
       "    </tr>\n",
       "  </tbody>\n",
       "</table>\n",
       "</div>"
      ],
      "text/plain": [
       "   user_id first_name  last_name  age                                   city  \\\n",
       "0     1000   Anamaria      Bauer   45  Atlanta-Sandy Springs-Roswell, GA MSA   \n",
       "1     1001     Mickey  Wilkerson   28        Seattle-Tacoma-Bellevue, WA MSA   \n",
       "2     1002     Carlee    Hoffman   36   Las Vegas-Henderson-Paradise, NV MSA   \n",
       "3     1003   Reynaldo    Jenkins   52                          Tulsa, OK MSA   \n",
       "4     1004    Leonila   Thompson   40        Seattle-Tacoma-Bellevue, WA MSA   \n",
       "\n",
       "     reg_date      plan churn_date  \n",
       "0  2018-12-24  ultimate        NaN  \n",
       "1  2018-08-13      surf        NaN  \n",
       "2  2018-10-21      surf        NaN  \n",
       "3  2018-01-28      surf        NaN  \n",
       "4  2018-05-23      surf        NaN  "
      ]
     },
     "execution_count": 14,
     "metadata": {},
     "output_type": "execute_result"
    }
   ],
   "source": [
    "users.head()"
   ]
  },
  {
   "cell_type": "markdown",
   "metadata": {},
   "source": [
    "1. For users dataframe, the reg_date needed to be changed into datetime type instead of object\n",
    "2. There are missing values in the 'churn_date' column. However, the 'churn_date' is the date when users decided to end their subscription so if it's empty, it means the subscription is ongoing. In this case, the churn_date will be leave as it is"
   ]
  },
  {
   "cell_type": "code",
   "execution_count": 15,
   "metadata": {},
   "outputs": [
    {
     "data": {
      "text/html": [
       "<div>\n",
       "<style scoped>\n",
       "    .dataframe tbody tr th:only-of-type {\n",
       "        vertical-align: middle;\n",
       "    }\n",
       "\n",
       "    .dataframe tbody tr th {\n",
       "        vertical-align: top;\n",
       "    }\n",
       "\n",
       "    .dataframe thead th {\n",
       "        text-align: right;\n",
       "    }\n",
       "</style>\n",
       "<table border=\"1\" class=\"dataframe\">\n",
       "  <thead>\n",
       "    <tr style=\"text-align: right;\">\n",
       "      <th></th>\n",
       "      <th>user_id</th>\n",
       "      <th>first_name</th>\n",
       "      <th>last_name</th>\n",
       "      <th>age</th>\n",
       "      <th>city</th>\n",
       "      <th>reg_date</th>\n",
       "      <th>plan</th>\n",
       "      <th>churn_date</th>\n",
       "    </tr>\n",
       "  </thead>\n",
       "  <tbody>\n",
       "    <tr>\n",
       "      <th>0</th>\n",
       "      <td>1000</td>\n",
       "      <td>Anamaria</td>\n",
       "      <td>Bauer</td>\n",
       "      <td>45</td>\n",
       "      <td>Atlanta-Sandy Springs-Roswell, GA MSA</td>\n",
       "      <td>2018-12-24</td>\n",
       "      <td>ultimate</td>\n",
       "      <td>Ongoing</td>\n",
       "    </tr>\n",
       "    <tr>\n",
       "      <th>1</th>\n",
       "      <td>1001</td>\n",
       "      <td>Mickey</td>\n",
       "      <td>Wilkerson</td>\n",
       "      <td>28</td>\n",
       "      <td>Seattle-Tacoma-Bellevue, WA MSA</td>\n",
       "      <td>2018-08-13</td>\n",
       "      <td>surf</td>\n",
       "      <td>Ongoing</td>\n",
       "    </tr>\n",
       "    <tr>\n",
       "      <th>2</th>\n",
       "      <td>1002</td>\n",
       "      <td>Carlee</td>\n",
       "      <td>Hoffman</td>\n",
       "      <td>36</td>\n",
       "      <td>Las Vegas-Henderson-Paradise, NV MSA</td>\n",
       "      <td>2018-10-21</td>\n",
       "      <td>surf</td>\n",
       "      <td>Ongoing</td>\n",
       "    </tr>\n",
       "    <tr>\n",
       "      <th>3</th>\n",
       "      <td>1003</td>\n",
       "      <td>Reynaldo</td>\n",
       "      <td>Jenkins</td>\n",
       "      <td>52</td>\n",
       "      <td>Tulsa, OK MSA</td>\n",
       "      <td>2018-01-28</td>\n",
       "      <td>surf</td>\n",
       "      <td>Ongoing</td>\n",
       "    </tr>\n",
       "    <tr>\n",
       "      <th>4</th>\n",
       "      <td>1004</td>\n",
       "      <td>Leonila</td>\n",
       "      <td>Thompson</td>\n",
       "      <td>40</td>\n",
       "      <td>Seattle-Tacoma-Bellevue, WA MSA</td>\n",
       "      <td>2018-05-23</td>\n",
       "      <td>surf</td>\n",
       "      <td>Ongoing</td>\n",
       "    </tr>\n",
       "  </tbody>\n",
       "</table>\n",
       "</div>"
      ],
      "text/plain": [
       "   user_id first_name  last_name  age                                   city  \\\n",
       "0     1000   Anamaria      Bauer   45  Atlanta-Sandy Springs-Roswell, GA MSA   \n",
       "1     1001     Mickey  Wilkerson   28        Seattle-Tacoma-Bellevue, WA MSA   \n",
       "2     1002     Carlee    Hoffman   36   Las Vegas-Henderson-Paradise, NV MSA   \n",
       "3     1003   Reynaldo    Jenkins   52                          Tulsa, OK MSA   \n",
       "4     1004    Leonila   Thompson   40        Seattle-Tacoma-Bellevue, WA MSA   \n",
       "\n",
       "     reg_date      plan churn_date  \n",
       "0  2018-12-24  ultimate    Ongoing  \n",
       "1  2018-08-13      surf    Ongoing  \n",
       "2  2018-10-21      surf    Ongoing  \n",
       "3  2018-01-28      surf    Ongoing  \n",
       "4  2018-05-23      surf    Ongoing  "
      ]
     },
     "execution_count": 15,
     "metadata": {},
     "output_type": "execute_result"
    }
   ],
   "source": [
    "users['churn_date'].fillna('Ongoing', inplace=True)\n",
    "users.head() # fill the misiing values with 'Ongoing'"
   ]
  },
  {
   "cell_type": "markdown",
   "metadata": {},
   "source": [
    "<a id=\"7\"></a> \n",
    "# Stage 2: Data Preprocessing"
   ]
  },
  {
   "cell_type": "markdown",
   "metadata": {},
   "source": [
    "<a id=\"8\"></a> \n",
    "## The 'calls' table"
   ]
  },
  {
   "cell_type": "code",
   "execution_count": 16,
   "metadata": {},
   "outputs": [
    {
     "name": "stdout",
     "output_type": "stream",
     "text": [
      "<class 'pandas.core.frame.DataFrame'>\n",
      "RangeIndex: 137735 entries, 0 to 137734\n",
      "Data columns (total 4 columns):\n",
      " #   Column     Non-Null Count   Dtype \n",
      "---  ------     --------------   ----- \n",
      " 0   id         137735 non-null  object\n",
      " 1   user_id    137735 non-null  int64 \n",
      " 2   call_date  137735 non-null  object\n",
      " 3   duration   137735 non-null  int64 \n",
      "dtypes: int64(2), object(2)\n",
      "memory usage: 4.2+ MB\n"
     ]
    }
   ],
   "source": [
    "calls['duration'] = calls['duration'].apply(np.ceil).astype('int')\n",
    "# applies the np.ceil method  to the column to round up its values and then converts them to integers\n",
    "\n",
    "calls.info(verbose=True) #general info on 'calls' table after change"
   ]
  },
  {
   "cell_type": "code",
   "execution_count": 17,
   "metadata": {},
   "outputs": [
    {
     "name": "stdout",
     "output_type": "stream",
     "text": [
      "<class 'pandas.core.frame.DataFrame'>\n",
      "RangeIndex: 137735 entries, 0 to 137734\n",
      "Data columns (total 4 columns):\n",
      " #   Column     Non-Null Count   Dtype         \n",
      "---  ------     --------------   -----         \n",
      " 0   id         137735 non-null  object        \n",
      " 1   user_id    137735 non-null  int64         \n",
      " 2   call_date  137735 non-null  datetime64[ns]\n",
      " 3   duration   137735 non-null  int64         \n",
      "dtypes: datetime64[ns](1), int64(2), object(1)\n",
      "memory usage: 4.2+ MB\n"
     ]
    }
   ],
   "source": [
    "calls['call_date'] = pd.to_datetime(calls['call_date'], format='%Y-%m-%d')\n",
    "# converts the 'call_date' values to date-time type using the existing format\n",
    "\n",
    "calls.info(verbose=True) # general info an 'calls' table after change"
   ]
  },
  {
   "cell_type": "code",
   "execution_count": 18,
   "metadata": {},
   "outputs": [
    {
     "data": {
      "text/html": [
       "<div>\n",
       "<style scoped>\n",
       "    .dataframe tbody tr th:only-of-type {\n",
       "        vertical-align: middle;\n",
       "    }\n",
       "\n",
       "    .dataframe tbody tr th {\n",
       "        vertical-align: top;\n",
       "    }\n",
       "\n",
       "    .dataframe thead th {\n",
       "        text-align: right;\n",
       "    }\n",
       "</style>\n",
       "<table border=\"1\" class=\"dataframe\">\n",
       "  <thead>\n",
       "    <tr style=\"text-align: right;\">\n",
       "      <th></th>\n",
       "      <th>id</th>\n",
       "      <th>user_id</th>\n",
       "      <th>call_date</th>\n",
       "      <th>duration</th>\n",
       "      <th>month</th>\n",
       "    </tr>\n",
       "  </thead>\n",
       "  <tbody>\n",
       "    <tr>\n",
       "      <th>0</th>\n",
       "      <td>1000_93</td>\n",
       "      <td>1000</td>\n",
       "      <td>2018-12-27</td>\n",
       "      <td>9</td>\n",
       "      <td>December</td>\n",
       "    </tr>\n",
       "    <tr>\n",
       "      <th>1</th>\n",
       "      <td>1000_145</td>\n",
       "      <td>1000</td>\n",
       "      <td>2018-12-27</td>\n",
       "      <td>14</td>\n",
       "      <td>December</td>\n",
       "    </tr>\n",
       "    <tr>\n",
       "      <th>2</th>\n",
       "      <td>1000_247</td>\n",
       "      <td>1000</td>\n",
       "      <td>2018-12-27</td>\n",
       "      <td>15</td>\n",
       "      <td>December</td>\n",
       "    </tr>\n",
       "    <tr>\n",
       "      <th>3</th>\n",
       "      <td>1000_309</td>\n",
       "      <td>1000</td>\n",
       "      <td>2018-12-28</td>\n",
       "      <td>6</td>\n",
       "      <td>December</td>\n",
       "    </tr>\n",
       "    <tr>\n",
       "      <th>4</th>\n",
       "      <td>1000_380</td>\n",
       "      <td>1000</td>\n",
       "      <td>2018-12-30</td>\n",
       "      <td>5</td>\n",
       "      <td>December</td>\n",
       "    </tr>\n",
       "  </tbody>\n",
       "</table>\n",
       "</div>"
      ],
      "text/plain": [
       "         id  user_id  call_date  duration     month\n",
       "0   1000_93     1000 2018-12-27         9  December\n",
       "1  1000_145     1000 2018-12-27        14  December\n",
       "2  1000_247     1000 2018-12-27        15  December\n",
       "3  1000_309     1000 2018-12-28         6  December\n",
       "4  1000_380     1000 2018-12-30         5  December"
      ]
     },
     "execution_count": 18,
     "metadata": {},
     "output_type": "execute_result"
    }
   ],
   "source": [
    "calls['month'] = calls['call_date'].dt.month_name()\n",
    "# extracts the month's name from the call_date column and saves it to new 'month' column\n",
    "\n",
    "calls.head() #first 5 rows of the 'calls' table after the change"
   ]
  },
  {
   "cell_type": "markdown",
   "metadata": {},
   "source": [
    "<a id=\"9\"></a> \n",
    "## The 'internet' table"
   ]
  },
  {
   "cell_type": "code",
   "execution_count": 19,
   "metadata": {},
   "outputs": [
    {
     "name": "stdout",
     "output_type": "stream",
     "text": [
      "<class 'pandas.core.frame.DataFrame'>\n",
      "RangeIndex: 104825 entries, 0 to 104824\n",
      "Data columns (total 4 columns):\n",
      " #   Column        Non-Null Count   Dtype \n",
      "---  ------        --------------   ----- \n",
      " 0   id            104825 non-null  object\n",
      " 1   user_id       104825 non-null  int64 \n",
      " 2   session_date  104825 non-null  object\n",
      " 3   gb_used       104825 non-null  int64 \n",
      "dtypes: int64(2), object(2)\n",
      "memory usage: 3.2+ MB\n"
     ]
    }
   ],
   "source": [
    "internet['mb_used'] = internet['mb_used']/1024\n",
    "#divides the values in the column by 1024 to convert them to Gigabytes\n",
    "#(1GB=1024MB)\n",
    "\n",
    "internet['mb_used'] = internet['mb_used'].apply(np.ceil).astype('int')\n",
    "#rounds up the values and converts them to integers\n",
    "\n",
    "internet = internet.rename(columns={'mb_used': 'gb_used'})\n",
    "#renames the column from mb_used to gb_used\n",
    "\n",
    "internet.info(verbose=True) #general information after the changes"
   ]
  },
  {
   "cell_type": "code",
   "execution_count": 20,
   "metadata": {},
   "outputs": [
    {
     "name": "stdout",
     "output_type": "stream",
     "text": [
      "<class 'pandas.core.frame.DataFrame'>\n",
      "RangeIndex: 104825 entries, 0 to 104824\n",
      "Data columns (total 4 columns):\n",
      " #   Column        Non-Null Count   Dtype         \n",
      "---  ------        --------------   -----         \n",
      " 0   id            104825 non-null  object        \n",
      " 1   user_id       104825 non-null  int64         \n",
      " 2   session_date  104825 non-null  datetime64[ns]\n",
      " 3   gb_used       104825 non-null  int64         \n",
      "dtypes: datetime64[ns](1), int64(2), object(1)\n",
      "memory usage: 3.2+ MB\n"
     ]
    }
   ],
   "source": [
    "internet['session_date']=pd.to_datetime(internet['session_date'], format='%Y-%m-%d')\n",
    "# converts the session_date column to the date-time type with the appropriate format\n",
    "\n",
    "internet.info(verbose=True) #general info of table after changes "
   ]
  },
  {
   "cell_type": "code",
   "execution_count": 21,
   "metadata": {},
   "outputs": [
    {
     "data": {
      "text/html": [
       "<div>\n",
       "<style scoped>\n",
       "    .dataframe tbody tr th:only-of-type {\n",
       "        vertical-align: middle;\n",
       "    }\n",
       "\n",
       "    .dataframe tbody tr th {\n",
       "        vertical-align: top;\n",
       "    }\n",
       "\n",
       "    .dataframe thead th {\n",
       "        text-align: right;\n",
       "    }\n",
       "</style>\n",
       "<table border=\"1\" class=\"dataframe\">\n",
       "  <thead>\n",
       "    <tr style=\"text-align: right;\">\n",
       "      <th></th>\n",
       "      <th>id</th>\n",
       "      <th>user_id</th>\n",
       "      <th>session_date</th>\n",
       "      <th>gb_used</th>\n",
       "      <th>month</th>\n",
       "    </tr>\n",
       "  </thead>\n",
       "  <tbody>\n",
       "    <tr>\n",
       "      <th>0</th>\n",
       "      <td>1000_13</td>\n",
       "      <td>1000</td>\n",
       "      <td>2018-12-29</td>\n",
       "      <td>1</td>\n",
       "      <td>December</td>\n",
       "    </tr>\n",
       "    <tr>\n",
       "      <th>1</th>\n",
       "      <td>1000_204</td>\n",
       "      <td>1000</td>\n",
       "      <td>2018-12-31</td>\n",
       "      <td>0</td>\n",
       "      <td>December</td>\n",
       "    </tr>\n",
       "    <tr>\n",
       "      <th>2</th>\n",
       "      <td>1000_379</td>\n",
       "      <td>1000</td>\n",
       "      <td>2018-12-28</td>\n",
       "      <td>1</td>\n",
       "      <td>December</td>\n",
       "    </tr>\n",
       "    <tr>\n",
       "      <th>3</th>\n",
       "      <td>1000_413</td>\n",
       "      <td>1000</td>\n",
       "      <td>2018-12-26</td>\n",
       "      <td>1</td>\n",
       "      <td>December</td>\n",
       "    </tr>\n",
       "    <tr>\n",
       "      <th>4</th>\n",
       "      <td>1000_442</td>\n",
       "      <td>1000</td>\n",
       "      <td>2018-12-27</td>\n",
       "      <td>1</td>\n",
       "      <td>December</td>\n",
       "    </tr>\n",
       "  </tbody>\n",
       "</table>\n",
       "</div>"
      ],
      "text/plain": [
       "         id  user_id session_date  gb_used     month\n",
       "0   1000_13     1000   2018-12-29        1  December\n",
       "1  1000_204     1000   2018-12-31        0  December\n",
       "2  1000_379     1000   2018-12-28        1  December\n",
       "3  1000_413     1000   2018-12-26        1  December\n",
       "4  1000_442     1000   2018-12-27        1  December"
      ]
     },
     "execution_count": 21,
     "metadata": {},
     "output_type": "execute_result"
    }
   ],
   "source": [
    "internet['month'] = internet['session_date'].dt.month_name()\n",
    "#extracts the month name from the session_date column and saves it to new month column\n",
    "\n",
    "internet.head() #first 5 rows of the table after changes"
   ]
  },
  {
   "cell_type": "markdown",
   "metadata": {},
   "source": [
    "<a id=\"10\"></a> \n",
    "## The 'messages' table"
   ]
  },
  {
   "cell_type": "code",
   "execution_count": 22,
   "metadata": {},
   "outputs": [
    {
     "name": "stdout",
     "output_type": "stream",
     "text": [
      "<class 'pandas.core.frame.DataFrame'>\n",
      "RangeIndex: 76051 entries, 0 to 76050\n",
      "Data columns (total 3 columns):\n",
      " #   Column        Non-Null Count  Dtype         \n",
      "---  ------        --------------  -----         \n",
      " 0   id            76051 non-null  object        \n",
      " 1   user_id       76051 non-null  int64         \n",
      " 2   message_date  76051 non-null  datetime64[ns]\n",
      "dtypes: datetime64[ns](1), int64(1), object(1)\n",
      "memory usage: 1.7+ MB\n"
     ]
    }
   ],
   "source": [
    "messages['message_date'] = pd.to_datetime(messages['message_date'], format='%Y-%m-%d')\n",
    "#converts message_date values to date-time type with the appropriate format\n",
    "\n",
    "messages.info(verbose=True) #general info of table after changes"
   ]
  },
  {
   "cell_type": "code",
   "execution_count": 23,
   "metadata": {},
   "outputs": [
    {
     "data": {
      "text/html": [
       "<div>\n",
       "<style scoped>\n",
       "    .dataframe tbody tr th:only-of-type {\n",
       "        vertical-align: middle;\n",
       "    }\n",
       "\n",
       "    .dataframe tbody tr th {\n",
       "        vertical-align: top;\n",
       "    }\n",
       "\n",
       "    .dataframe thead th {\n",
       "        text-align: right;\n",
       "    }\n",
       "</style>\n",
       "<table border=\"1\" class=\"dataframe\">\n",
       "  <thead>\n",
       "    <tr style=\"text-align: right;\">\n",
       "      <th></th>\n",
       "      <th>id</th>\n",
       "      <th>user_id</th>\n",
       "      <th>message_date</th>\n",
       "      <th>month</th>\n",
       "    </tr>\n",
       "  </thead>\n",
       "  <tbody>\n",
       "    <tr>\n",
       "      <th>0</th>\n",
       "      <td>1000_125</td>\n",
       "      <td>1000</td>\n",
       "      <td>2018-12-27</td>\n",
       "      <td>December</td>\n",
       "    </tr>\n",
       "    <tr>\n",
       "      <th>1</th>\n",
       "      <td>1000_160</td>\n",
       "      <td>1000</td>\n",
       "      <td>2018-12-31</td>\n",
       "      <td>December</td>\n",
       "    </tr>\n",
       "    <tr>\n",
       "      <th>2</th>\n",
       "      <td>1000_223</td>\n",
       "      <td>1000</td>\n",
       "      <td>2018-12-31</td>\n",
       "      <td>December</td>\n",
       "    </tr>\n",
       "    <tr>\n",
       "      <th>3</th>\n",
       "      <td>1000_251</td>\n",
       "      <td>1000</td>\n",
       "      <td>2018-12-27</td>\n",
       "      <td>December</td>\n",
       "    </tr>\n",
       "    <tr>\n",
       "      <th>4</th>\n",
       "      <td>1000_255</td>\n",
       "      <td>1000</td>\n",
       "      <td>2018-12-26</td>\n",
       "      <td>December</td>\n",
       "    </tr>\n",
       "  </tbody>\n",
       "</table>\n",
       "</div>"
      ],
      "text/plain": [
       "         id  user_id message_date     month\n",
       "0  1000_125     1000   2018-12-27  December\n",
       "1  1000_160     1000   2018-12-31  December\n",
       "2  1000_223     1000   2018-12-31  December\n",
       "3  1000_251     1000   2018-12-27  December\n",
       "4  1000_255     1000   2018-12-26  December"
      ]
     },
     "execution_count": 23,
     "metadata": {},
     "output_type": "execute_result"
    }
   ],
   "source": [
    "messages['month'] = messages['message_date'].dt.month_name()\n",
    "#extracts the month name from 'message_date' and saves it to new month column\n",
    "\n",
    "messages.head() #dataframe's general info "
   ]
  },
  {
   "cell_type": "markdown",
   "metadata": {},
   "source": [
    "<a id=\"11\"></a> \n",
    "## The 'plans' table"
   ]
  },
  {
   "cell_type": "code",
   "execution_count": 24,
   "metadata": {},
   "outputs": [
    {
     "name": "stdout",
     "output_type": "stream",
     "text": [
      "<class 'pandas.core.frame.DataFrame'>\n",
      "RangeIndex: 2 entries, 0 to 1\n",
      "Data columns (total 8 columns):\n",
      " #   Column                 Non-Null Count  Dtype  \n",
      "---  ------                 --------------  -----  \n",
      " 0   messages_included      2 non-null      int64  \n",
      " 1   gb_per_month_included  2 non-null      float64\n",
      " 2   minutes_included       2 non-null      int64  \n",
      " 3   usd_monthly_pay        2 non-null      int64  \n",
      " 4   usd_per_gb             2 non-null      int64  \n",
      " 5   usd_per_message        2 non-null      float64\n",
      " 6   usd_per_minute         2 non-null      float64\n",
      " 7   plan_name              2 non-null      object \n",
      "dtypes: float64(3), int64(4), object(1)\n",
      "memory usage: 256.0+ bytes\n"
     ]
    },
    {
     "data": {
      "text/html": [
       "<div>\n",
       "<style scoped>\n",
       "    .dataframe tbody tr th:only-of-type {\n",
       "        vertical-align: middle;\n",
       "    }\n",
       "\n",
       "    .dataframe tbody tr th {\n",
       "        vertical-align: top;\n",
       "    }\n",
       "\n",
       "    .dataframe thead th {\n",
       "        text-align: right;\n",
       "    }\n",
       "</style>\n",
       "<table border=\"1\" class=\"dataframe\">\n",
       "  <thead>\n",
       "    <tr style=\"text-align: right;\">\n",
       "      <th></th>\n",
       "      <th>messages_included</th>\n",
       "      <th>gb_per_month_included</th>\n",
       "      <th>minutes_included</th>\n",
       "      <th>usd_monthly_pay</th>\n",
       "      <th>usd_per_gb</th>\n",
       "      <th>usd_per_message</th>\n",
       "      <th>usd_per_minute</th>\n",
       "      <th>plan_name</th>\n",
       "    </tr>\n",
       "  </thead>\n",
       "  <tbody>\n",
       "    <tr>\n",
       "      <th>0</th>\n",
       "      <td>50</td>\n",
       "      <td>15.0</td>\n",
       "      <td>500</td>\n",
       "      <td>20</td>\n",
       "      <td>10</td>\n",
       "      <td>0.03</td>\n",
       "      <td>0.03</td>\n",
       "      <td>surf</td>\n",
       "    </tr>\n",
       "    <tr>\n",
       "      <th>1</th>\n",
       "      <td>1000</td>\n",
       "      <td>30.0</td>\n",
       "      <td>3000</td>\n",
       "      <td>70</td>\n",
       "      <td>7</td>\n",
       "      <td>0.01</td>\n",
       "      <td>0.01</td>\n",
       "      <td>ultimate</td>\n",
       "    </tr>\n",
       "  </tbody>\n",
       "</table>\n",
       "</div>"
      ],
      "text/plain": [
       "   messages_included  gb_per_month_included  minutes_included  \\\n",
       "0                 50                   15.0               500   \n",
       "1               1000                   30.0              3000   \n",
       "\n",
       "   usd_monthly_pay  usd_per_gb  usd_per_message  usd_per_minute plan_name  \n",
       "0               20          10             0.03            0.03      surf  \n",
       "1               70           7             0.01            0.01  ultimate  "
      ]
     },
     "execution_count": 24,
     "metadata": {},
     "output_type": "execute_result"
    }
   ],
   "source": [
    "plans['mb_per_month_included'] = plans['mb_per_month_included']/1024\n",
    "#converts the values of mb to gigabytes \n",
    "\n",
    "plans = plans.rename(columns={'mb_per_month_included':'gb_per_month_included'})\n",
    "#renames the 'mb_per_month_included' column to 'gb_per_month_included'\n",
    "\n",
    "plans.info(verbose=True)\n",
    "plans.head()"
   ]
  },
  {
   "cell_type": "markdown",
   "metadata": {},
   "source": [
    "<a id=\"12\"></a> \n",
    "## The 'users' table"
   ]
  },
  {
   "cell_type": "code",
   "execution_count": 25,
   "metadata": {},
   "outputs": [
    {
     "name": "stdout",
     "output_type": "stream",
     "text": [
      "<class 'pandas.core.frame.DataFrame'>\n",
      "RangeIndex: 500 entries, 0 to 499\n",
      "Data columns (total 8 columns):\n",
      " #   Column      Non-Null Count  Dtype         \n",
      "---  ------      --------------  -----         \n",
      " 0   user_id     500 non-null    int64         \n",
      " 1   first_name  500 non-null    object        \n",
      " 2   last_name   500 non-null    object        \n",
      " 3   age         500 non-null    int64         \n",
      " 4   city        500 non-null    object        \n",
      " 5   reg_date    500 non-null    datetime64[ns]\n",
      " 6   plan        500 non-null    category      \n",
      " 7   churn_date  500 non-null    object        \n",
      "dtypes: category(1), datetime64[ns](1), int64(2), object(4)\n",
      "memory usage: 28.1+ KB\n"
     ]
    }
   ],
   "source": [
    "users['reg_date']=pd.to_datetime(users['reg_date'],format='%Y-%m-%d')\n",
    "#converts reg_date values to date-time type with the appropriate format\n",
    "\n",
    "users['plan'] = users['plan'].astype('category')\n",
    "#converts the 'plan' column to category type\n",
    "\n",
    "users.info(verbose=True) #general info of table after changes"
   ]
  },
  {
   "cell_type": "markdown",
   "metadata": {},
   "source": [
    "## Make four new grouping to understand the relationship between number of calls, minutes, messages and volume of internet traffic per month"
   ]
  },
  {
   "cell_type": "markdown",
   "metadata": {},
   "source": [
    "1. Number of calls by each user per month\n",
    "2. Number of total minutes used by each user per month\n",
    "3. Number of messages sent by each user per month\n",
    "4. Volume data of internet traffic used by each user per month"
   ]
  },
  {
   "cell_type": "markdown",
   "metadata": {},
   "source": [
    "<a id=\"13\"></a> \n",
    "### Number of Calls by Users per Month"
   ]
  },
  {
   "cell_type": "code",
   "execution_count": 26,
   "metadata": {},
   "outputs": [],
   "source": [
    "agg_user_monthly_calls = calls.groupby([\"user_id\", \"month\"])[\"duration\"].aggregate([\"count\"]).reset_index()\n",
    "#grouping the 'calls' into count,where count=number_calls_per_month"
   ]
  },
  {
   "cell_type": "code",
   "execution_count": 27,
   "metadata": {},
   "outputs": [
    {
     "data": {
      "text/html": [
       "<div>\n",
       "<style scoped>\n",
       "    .dataframe tbody tr th:only-of-type {\n",
       "        vertical-align: middle;\n",
       "    }\n",
       "\n",
       "    .dataframe tbody tr th {\n",
       "        vertical-align: top;\n",
       "    }\n",
       "\n",
       "    .dataframe thead th {\n",
       "        text-align: right;\n",
       "    }\n",
       "</style>\n",
       "<table border=\"1\" class=\"dataframe\">\n",
       "  <thead>\n",
       "    <tr style=\"text-align: right;\">\n",
       "      <th></th>\n",
       "      <th>user_id</th>\n",
       "      <th>month</th>\n",
       "      <th>number_calls_per_month</th>\n",
       "    </tr>\n",
       "  </thead>\n",
       "  <tbody>\n",
       "    <tr>\n",
       "      <th>0</th>\n",
       "      <td>1000</td>\n",
       "      <td>December</td>\n",
       "      <td>16</td>\n",
       "    </tr>\n",
       "    <tr>\n",
       "      <th>1</th>\n",
       "      <td>1001</td>\n",
       "      <td>August</td>\n",
       "      <td>27</td>\n",
       "    </tr>\n",
       "    <tr>\n",
       "      <th>2</th>\n",
       "      <td>1001</td>\n",
       "      <td>December</td>\n",
       "      <td>56</td>\n",
       "    </tr>\n",
       "    <tr>\n",
       "      <th>3</th>\n",
       "      <td>1001</td>\n",
       "      <td>November</td>\n",
       "      <td>64</td>\n",
       "    </tr>\n",
       "    <tr>\n",
       "      <th>4</th>\n",
       "      <td>1001</td>\n",
       "      <td>October</td>\n",
       "      <td>65</td>\n",
       "    </tr>\n",
       "    <tr>\n",
       "      <th>...</th>\n",
       "      <td>...</td>\n",
       "      <td>...</td>\n",
       "      <td>...</td>\n",
       "    </tr>\n",
       "    <tr>\n",
       "      <th>2253</th>\n",
       "      <td>1498</td>\n",
       "      <td>September</td>\n",
       "      <td>45</td>\n",
       "    </tr>\n",
       "    <tr>\n",
       "      <th>2254</th>\n",
       "      <td>1499</td>\n",
       "      <td>December</td>\n",
       "      <td>65</td>\n",
       "    </tr>\n",
       "    <tr>\n",
       "      <th>2255</th>\n",
       "      <td>1499</td>\n",
       "      <td>November</td>\n",
       "      <td>45</td>\n",
       "    </tr>\n",
       "    <tr>\n",
       "      <th>2256</th>\n",
       "      <td>1499</td>\n",
       "      <td>October</td>\n",
       "      <td>53</td>\n",
       "    </tr>\n",
       "    <tr>\n",
       "      <th>2257</th>\n",
       "      <td>1499</td>\n",
       "      <td>September</td>\n",
       "      <td>41</td>\n",
       "    </tr>\n",
       "  </tbody>\n",
       "</table>\n",
       "<p>2258 rows × 3 columns</p>\n",
       "</div>"
      ],
      "text/plain": [
       "      user_id      month  number_calls_per_month\n",
       "0        1000   December                      16\n",
       "1        1001     August                      27\n",
       "2        1001   December                      56\n",
       "3        1001   November                      64\n",
       "4        1001    October                      65\n",
       "...       ...        ...                     ...\n",
       "2253     1498  September                      45\n",
       "2254     1499   December                      65\n",
       "2255     1499   November                      45\n",
       "2256     1499    October                      53\n",
       "2257     1499  September                      41\n",
       "\n",
       "[2258 rows x 3 columns]"
      ]
     },
     "execution_count": 27,
     "metadata": {},
     "output_type": "execute_result"
    }
   ],
   "source": [
    "agg_user_monthly_calls = agg_user_monthly_calls.rename(columns={'count': 'number_calls_per_month'})\n",
    "agg_user_monthly_calls #rename the column"
   ]
  },
  {
   "cell_type": "code",
   "execution_count": 28,
   "metadata": {},
   "outputs": [
    {
     "name": "stdout",
     "output_type": "stream",
     "text": [
      "user_id                   0\n",
      "month                     0\n",
      "number_calls_per_month    0\n",
      "dtype: int64\n"
     ]
    }
   ],
   "source": [
    "missing_values_monthly_calls = agg_user_monthly_calls.isnull().sum()\n",
    "print(missing_values_monthly_calls)"
   ]
  },
  {
   "cell_type": "markdown",
   "metadata": {},
   "source": [
    "<a id=\"14\"></a> \n",
    "### Number of Total Minutes Used per Month"
   ]
  },
  {
   "cell_type": "code",
   "execution_count": 29,
   "metadata": {},
   "outputs": [],
   "source": [
    "agg_user_monthly_minutes = calls.groupby([\"user_id\", \"month\"])[\"duration\"].aggregate([\"sum\"]).reset_index()\n",
    "#grouping the 'calls' into sum ,where sum=total_minuter_per_month"
   ]
  },
  {
   "cell_type": "code",
   "execution_count": 30,
   "metadata": {},
   "outputs": [
    {
     "data": {
      "text/html": [
       "<div>\n",
       "<style scoped>\n",
       "    .dataframe tbody tr th:only-of-type {\n",
       "        vertical-align: middle;\n",
       "    }\n",
       "\n",
       "    .dataframe tbody tr th {\n",
       "        vertical-align: top;\n",
       "    }\n",
       "\n",
       "    .dataframe thead th {\n",
       "        text-align: right;\n",
       "    }\n",
       "</style>\n",
       "<table border=\"1\" class=\"dataframe\">\n",
       "  <thead>\n",
       "    <tr style=\"text-align: right;\">\n",
       "      <th></th>\n",
       "      <th>user_id</th>\n",
       "      <th>month</th>\n",
       "      <th>total_minutes_per_month</th>\n",
       "    </tr>\n",
       "  </thead>\n",
       "  <tbody>\n",
       "    <tr>\n",
       "      <th>0</th>\n",
       "      <td>1000</td>\n",
       "      <td>December</td>\n",
       "      <td>124</td>\n",
       "    </tr>\n",
       "    <tr>\n",
       "      <th>1</th>\n",
       "      <td>1001</td>\n",
       "      <td>August</td>\n",
       "      <td>182</td>\n",
       "    </tr>\n",
       "    <tr>\n",
       "      <th>2</th>\n",
       "      <td>1001</td>\n",
       "      <td>December</td>\n",
       "      <td>412</td>\n",
       "    </tr>\n",
       "    <tr>\n",
       "      <th>3</th>\n",
       "      <td>1001</td>\n",
       "      <td>November</td>\n",
       "      <td>426</td>\n",
       "    </tr>\n",
       "    <tr>\n",
       "      <th>4</th>\n",
       "      <td>1001</td>\n",
       "      <td>October</td>\n",
       "      <td>393</td>\n",
       "    </tr>\n",
       "    <tr>\n",
       "      <th>...</th>\n",
       "      <td>...</td>\n",
       "      <td>...</td>\n",
       "      <td>...</td>\n",
       "    </tr>\n",
       "    <tr>\n",
       "      <th>2253</th>\n",
       "      <td>1498</td>\n",
       "      <td>September</td>\n",
       "      <td>363</td>\n",
       "    </tr>\n",
       "    <tr>\n",
       "      <th>2254</th>\n",
       "      <td>1499</td>\n",
       "      <td>December</td>\n",
       "      <td>496</td>\n",
       "    </tr>\n",
       "    <tr>\n",
       "      <th>2255</th>\n",
       "      <td>1499</td>\n",
       "      <td>November</td>\n",
       "      <td>308</td>\n",
       "    </tr>\n",
       "    <tr>\n",
       "      <th>2256</th>\n",
       "      <td>1499</td>\n",
       "      <td>October</td>\n",
       "      <td>385</td>\n",
       "    </tr>\n",
       "    <tr>\n",
       "      <th>2257</th>\n",
       "      <td>1499</td>\n",
       "      <td>September</td>\n",
       "      <td>346</td>\n",
       "    </tr>\n",
       "  </tbody>\n",
       "</table>\n",
       "<p>2258 rows × 3 columns</p>\n",
       "</div>"
      ],
      "text/plain": [
       "      user_id      month  total_minutes_per_month\n",
       "0        1000   December                      124\n",
       "1        1001     August                      182\n",
       "2        1001   December                      412\n",
       "3        1001   November                      426\n",
       "4        1001    October                      393\n",
       "...       ...        ...                      ...\n",
       "2253     1498  September                      363\n",
       "2254     1499   December                      496\n",
       "2255     1499   November                      308\n",
       "2256     1499    October                      385\n",
       "2257     1499  September                      346\n",
       "\n",
       "[2258 rows x 3 columns]"
      ]
     },
     "execution_count": 30,
     "metadata": {},
     "output_type": "execute_result"
    }
   ],
   "source": [
    "agg_user_monthly_minutes = agg_user_monthly_minutes.rename(columns={'sum': 'total_minutes_per_month'})\n",
    "agg_user_monthly_minutes #rename the column"
   ]
  },
  {
   "cell_type": "code",
   "execution_count": 31,
   "metadata": {},
   "outputs": [
    {
     "name": "stdout",
     "output_type": "stream",
     "text": [
      "user_id                    0\n",
      "month                      0\n",
      "total_minutes_per_month    0\n",
      "dtype: int64\n"
     ]
    }
   ],
   "source": [
    "missing_values_monthly_minutes = agg_user_monthly_minutes.isnull().sum()\n",
    "print(missing_values_monthly_minutes)"
   ]
  },
  {
   "cell_type": "markdown",
   "metadata": {},
   "source": [
    "<a id=\"15\"></a> \n",
    "### Number of messages made per month"
   ]
  },
  {
   "cell_type": "code",
   "execution_count": 32,
   "metadata": {},
   "outputs": [],
   "source": [
    "agg_user_monthly_message = messages.groupby([\"user_id\", \"month\"])[\"message_date\"].aggregate([\"count\"]).reset_index()\n",
    "#grouping the 'message' into count, count=number_messages_per_month"
   ]
  },
  {
   "cell_type": "code",
   "execution_count": 33,
   "metadata": {},
   "outputs": [
    {
     "data": {
      "text/html": [
       "<div>\n",
       "<style scoped>\n",
       "    .dataframe tbody tr th:only-of-type {\n",
       "        vertical-align: middle;\n",
       "    }\n",
       "\n",
       "    .dataframe tbody tr th {\n",
       "        vertical-align: top;\n",
       "    }\n",
       "\n",
       "    .dataframe thead th {\n",
       "        text-align: right;\n",
       "    }\n",
       "</style>\n",
       "<table border=\"1\" class=\"dataframe\">\n",
       "  <thead>\n",
       "    <tr style=\"text-align: right;\">\n",
       "      <th></th>\n",
       "      <th>user_id</th>\n",
       "      <th>month</th>\n",
       "      <th>number_messages_per_month</th>\n",
       "    </tr>\n",
       "  </thead>\n",
       "  <tbody>\n",
       "    <tr>\n",
       "      <th>0</th>\n",
       "      <td>1000</td>\n",
       "      <td>December</td>\n",
       "      <td>11</td>\n",
       "    </tr>\n",
       "    <tr>\n",
       "      <th>1</th>\n",
       "      <td>1001</td>\n",
       "      <td>August</td>\n",
       "      <td>30</td>\n",
       "    </tr>\n",
       "    <tr>\n",
       "      <th>2</th>\n",
       "      <td>1001</td>\n",
       "      <td>December</td>\n",
       "      <td>44</td>\n",
       "    </tr>\n",
       "    <tr>\n",
       "      <th>3</th>\n",
       "      <td>1001</td>\n",
       "      <td>November</td>\n",
       "      <td>36</td>\n",
       "    </tr>\n",
       "    <tr>\n",
       "      <th>4</th>\n",
       "      <td>1001</td>\n",
       "      <td>October</td>\n",
       "      <td>53</td>\n",
       "    </tr>\n",
       "    <tr>\n",
       "      <th>...</th>\n",
       "      <td>...</td>\n",
       "      <td>...</td>\n",
       "      <td>...</td>\n",
       "    </tr>\n",
       "    <tr>\n",
       "      <th>1801</th>\n",
       "      <td>1496</td>\n",
       "      <td>December</td>\n",
       "      <td>11</td>\n",
       "    </tr>\n",
       "    <tr>\n",
       "      <th>1802</th>\n",
       "      <td>1496</td>\n",
       "      <td>November</td>\n",
       "      <td>13</td>\n",
       "    </tr>\n",
       "    <tr>\n",
       "      <th>1803</th>\n",
       "      <td>1496</td>\n",
       "      <td>October</td>\n",
       "      <td>18</td>\n",
       "    </tr>\n",
       "    <tr>\n",
       "      <th>1804</th>\n",
       "      <td>1496</td>\n",
       "      <td>September</td>\n",
       "      <td>21</td>\n",
       "    </tr>\n",
       "    <tr>\n",
       "      <th>1805</th>\n",
       "      <td>1497</td>\n",
       "      <td>December</td>\n",
       "      <td>50</td>\n",
       "    </tr>\n",
       "  </tbody>\n",
       "</table>\n",
       "<p>1806 rows × 3 columns</p>\n",
       "</div>"
      ],
      "text/plain": [
       "      user_id      month  number_messages_per_month\n",
       "0        1000   December                         11\n",
       "1        1001     August                         30\n",
       "2        1001   December                         44\n",
       "3        1001   November                         36\n",
       "4        1001    October                         53\n",
       "...       ...        ...                        ...\n",
       "1801     1496   December                         11\n",
       "1802     1496   November                         13\n",
       "1803     1496    October                         18\n",
       "1804     1496  September                         21\n",
       "1805     1497   December                         50\n",
       "\n",
       "[1806 rows x 3 columns]"
      ]
     },
     "execution_count": 33,
     "metadata": {},
     "output_type": "execute_result"
    }
   ],
   "source": [
    "agg_user_monthly_message = agg_user_monthly_message.rename(columns={'count': 'number_messages_per_month'})\n",
    "agg_user_monthly_message #rename the column"
   ]
  },
  {
   "cell_type": "code",
   "execution_count": 34,
   "metadata": {},
   "outputs": [
    {
     "name": "stdout",
     "output_type": "stream",
     "text": [
      "user_id                      0\n",
      "month                        0\n",
      "number_messages_per_month    0\n",
      "dtype: int64\n"
     ]
    }
   ],
   "source": [
    "missing_values_monthly_message = agg_user_monthly_message.isnull().sum()\n",
    "print(missing_values_monthly_message) #check missing values"
   ]
  },
  {
   "cell_type": "markdown",
   "metadata": {},
   "source": [
    "<a id=\"16\"></a> \n",
    "### Number of volume for internet traffic made per month"
   ]
  },
  {
   "cell_type": "code",
   "execution_count": 35,
   "metadata": {},
   "outputs": [],
   "source": [
    "agg_user_monthly_internet = internet.groupby([\"user_id\", \"month\"])[\"gb_used\"].aggregate([\"sum\"]).reset_index()\n",
    "#grouping the 'internet' into sum, sum=gb_used_per_month"
   ]
  },
  {
   "cell_type": "code",
   "execution_count": 36,
   "metadata": {},
   "outputs": [
    {
     "data": {
      "text/html": [
       "<div>\n",
       "<style scoped>\n",
       "    .dataframe tbody tr th:only-of-type {\n",
       "        vertical-align: middle;\n",
       "    }\n",
       "\n",
       "    .dataframe tbody tr th {\n",
       "        vertical-align: top;\n",
       "    }\n",
       "\n",
       "    .dataframe thead th {\n",
       "        text-align: right;\n",
       "    }\n",
       "</style>\n",
       "<table border=\"1\" class=\"dataframe\">\n",
       "  <thead>\n",
       "    <tr style=\"text-align: right;\">\n",
       "      <th></th>\n",
       "      <th>user_id</th>\n",
       "      <th>month</th>\n",
       "      <th>gb_used_per_month</th>\n",
       "    </tr>\n",
       "  </thead>\n",
       "  <tbody>\n",
       "    <tr>\n",
       "      <th>0</th>\n",
       "      <td>1000</td>\n",
       "      <td>December</td>\n",
       "      <td>4</td>\n",
       "    </tr>\n",
       "    <tr>\n",
       "      <th>1</th>\n",
       "      <td>1001</td>\n",
       "      <td>August</td>\n",
       "      <td>21</td>\n",
       "    </tr>\n",
       "    <tr>\n",
       "      <th>2</th>\n",
       "      <td>1001</td>\n",
       "      <td>December</td>\n",
       "      <td>55</td>\n",
       "    </tr>\n",
       "    <tr>\n",
       "      <th>3</th>\n",
       "      <td>1001</td>\n",
       "      <td>November</td>\n",
       "      <td>49</td>\n",
       "    </tr>\n",
       "    <tr>\n",
       "      <th>4</th>\n",
       "      <td>1001</td>\n",
       "      <td>October</td>\n",
       "      <td>50</td>\n",
       "    </tr>\n",
       "    <tr>\n",
       "      <th>...</th>\n",
       "      <td>...</td>\n",
       "      <td>...</td>\n",
       "      <td>...</td>\n",
       "    </tr>\n",
       "    <tr>\n",
       "      <th>2272</th>\n",
       "      <td>1498</td>\n",
       "      <td>September</td>\n",
       "      <td>52</td>\n",
       "    </tr>\n",
       "    <tr>\n",
       "      <th>2273</th>\n",
       "      <td>1499</td>\n",
       "      <td>December</td>\n",
       "      <td>58</td>\n",
       "    </tr>\n",
       "    <tr>\n",
       "      <th>2274</th>\n",
       "      <td>1499</td>\n",
       "      <td>November</td>\n",
       "      <td>43</td>\n",
       "    </tr>\n",
       "    <tr>\n",
       "      <th>2275</th>\n",
       "      <td>1499</td>\n",
       "      <td>October</td>\n",
       "      <td>52</td>\n",
       "    </tr>\n",
       "    <tr>\n",
       "      <th>2276</th>\n",
       "      <td>1499</td>\n",
       "      <td>September</td>\n",
       "      <td>37</td>\n",
       "    </tr>\n",
       "  </tbody>\n",
       "</table>\n",
       "<p>2277 rows × 3 columns</p>\n",
       "</div>"
      ],
      "text/plain": [
       "      user_id      month  gb_used_per_month\n",
       "0        1000   December                  4\n",
       "1        1001     August                 21\n",
       "2        1001   December                 55\n",
       "3        1001   November                 49\n",
       "4        1001    October                 50\n",
       "...       ...        ...                ...\n",
       "2272     1498  September                 52\n",
       "2273     1499   December                 58\n",
       "2274     1499   November                 43\n",
       "2275     1499    October                 52\n",
       "2276     1499  September                 37\n",
       "\n",
       "[2277 rows x 3 columns]"
      ]
     },
     "execution_count": 36,
     "metadata": {},
     "output_type": "execute_result"
    }
   ],
   "source": [
    "agg_user_monthly_internet = agg_user_monthly_internet.rename(columns={'sum': 'gb_used_per_month'})\n",
    "agg_user_monthly_internet #rename the column"
   ]
  },
  {
   "cell_type": "code",
   "execution_count": 37,
   "metadata": {},
   "outputs": [
    {
     "name": "stdout",
     "output_type": "stream",
     "text": [
      "user_id              0\n",
      "month                0\n",
      "gb_used_per_month    0\n",
      "dtype: int64\n"
     ]
    }
   ],
   "source": [
    "missing_values_monthly_internet = agg_user_monthly_internet.isnull().sum()\n",
    "print(missing_values_monthly_internet) #check missing values"
   ]
  },
  {
   "cell_type": "markdown",
   "metadata": {},
   "source": [
    "<a id=\"17\"></a> \n",
    "### Combine all 'plans'. 'users' and other aggregated data"
   ]
  },
  {
   "cell_type": "code",
   "execution_count": 38,
   "metadata": {},
   "outputs": [],
   "source": [
    "# Step 1: Merge 'plans' and 'users' together on plan_name and right on plan    \n",
    "merged_plan_users = pd.merge(plans, users, how='inner', left_on='plan_name', right_on='plan')"
   ]
  },
  {
   "cell_type": "code",
   "execution_count": 39,
   "metadata": {},
   "outputs": [],
   "source": [
    "# Step 2: Merge (plan&users) with aggregated calls data on user_id\n",
    "merged_calls_data = pd.merge(merged_plan_users, agg_user_monthly_calls, on='user_id')"
   ]
  },
  {
   "cell_type": "code",
   "execution_count": 40,
   "metadata": {},
   "outputs": [],
   "source": [
    "# Step 3: Merge (merged_calls_data) with aggregated message data on user_id\n",
    "merged_minutes_data = pd.merge(\n",
    "    merged_calls_data,\n",
    "    agg_user_monthly_minutes[['user_id', 'total_minutes_per_month','month']],\n",
    "    on=['user_id', 'month'],\n",
    "    how=\"outer\"\n",
    "    )"
   ]
  },
  {
   "cell_type": "code",
   "execution_count": 41,
   "metadata": {},
   "outputs": [],
   "source": [
    "# Step 4: Merge (merged_calls_data) with aggregated message data on user_id\n",
    "final_merged_data = pd.merge(\n",
    "    merged_minutes_data, \n",
    "    agg_user_monthly_message[['user_id', 'number_messages_per_month','month']],\n",
    "    on=['user_id','month'],\n",
    "    how=\"outer\"\n",
    "    )"
   ]
  },
  {
   "cell_type": "code",
   "execution_count": 42,
   "metadata": {},
   "outputs": [
    {
     "data": {
      "text/html": [
       "<div>\n",
       "<style scoped>\n",
       "    .dataframe tbody tr th:only-of-type {\n",
       "        vertical-align: middle;\n",
       "    }\n",
       "\n",
       "    .dataframe tbody tr th {\n",
       "        vertical-align: top;\n",
       "    }\n",
       "\n",
       "    .dataframe thead th {\n",
       "        text-align: right;\n",
       "    }\n",
       "</style>\n",
       "<table border=\"1\" class=\"dataframe\">\n",
       "  <thead>\n",
       "    <tr style=\"text-align: right;\">\n",
       "      <th></th>\n",
       "      <th>messages_included</th>\n",
       "      <th>gb_per_month_included</th>\n",
       "      <th>minutes_included</th>\n",
       "      <th>usd_monthly_pay</th>\n",
       "      <th>usd_per_gb</th>\n",
       "      <th>usd_per_message</th>\n",
       "      <th>usd_per_minute</th>\n",
       "      <th>plan_name</th>\n",
       "      <th>user_id</th>\n",
       "      <th>first_name</th>\n",
       "      <th>...</th>\n",
       "      <th>age</th>\n",
       "      <th>city</th>\n",
       "      <th>reg_date</th>\n",
       "      <th>plan</th>\n",
       "      <th>churn_date</th>\n",
       "      <th>month</th>\n",
       "      <th>number_calls_per_month</th>\n",
       "      <th>total_minutes_per_month</th>\n",
       "      <th>number_messages_per_month</th>\n",
       "      <th>gb_used_per_month</th>\n",
       "    </tr>\n",
       "  </thead>\n",
       "  <tbody>\n",
       "    <tr>\n",
       "      <th>0</th>\n",
       "      <td>50.0</td>\n",
       "      <td>15.0</td>\n",
       "      <td>500.0</td>\n",
       "      <td>20.0</td>\n",
       "      <td>10.0</td>\n",
       "      <td>0.03</td>\n",
       "      <td>0.03</td>\n",
       "      <td>surf</td>\n",
       "      <td>1001</td>\n",
       "      <td>Mickey</td>\n",
       "      <td>...</td>\n",
       "      <td>28.0</td>\n",
       "      <td>Seattle-Tacoma-Bellevue, WA MSA</td>\n",
       "      <td>2018-08-13</td>\n",
       "      <td>surf</td>\n",
       "      <td>Ongoing</td>\n",
       "      <td>August</td>\n",
       "      <td>27.0</td>\n",
       "      <td>182.0</td>\n",
       "      <td>30.0</td>\n",
       "      <td>21.0</td>\n",
       "    </tr>\n",
       "    <tr>\n",
       "      <th>1</th>\n",
       "      <td>50.0</td>\n",
       "      <td>15.0</td>\n",
       "      <td>500.0</td>\n",
       "      <td>20.0</td>\n",
       "      <td>10.0</td>\n",
       "      <td>0.03</td>\n",
       "      <td>0.03</td>\n",
       "      <td>surf</td>\n",
       "      <td>1001</td>\n",
       "      <td>Mickey</td>\n",
       "      <td>...</td>\n",
       "      <td>28.0</td>\n",
       "      <td>Seattle-Tacoma-Bellevue, WA MSA</td>\n",
       "      <td>2018-08-13</td>\n",
       "      <td>surf</td>\n",
       "      <td>Ongoing</td>\n",
       "      <td>December</td>\n",
       "      <td>56.0</td>\n",
       "      <td>412.0</td>\n",
       "      <td>44.0</td>\n",
       "      <td>55.0</td>\n",
       "    </tr>\n",
       "    <tr>\n",
       "      <th>2</th>\n",
       "      <td>50.0</td>\n",
       "      <td>15.0</td>\n",
       "      <td>500.0</td>\n",
       "      <td>20.0</td>\n",
       "      <td>10.0</td>\n",
       "      <td>0.03</td>\n",
       "      <td>0.03</td>\n",
       "      <td>surf</td>\n",
       "      <td>1001</td>\n",
       "      <td>Mickey</td>\n",
       "      <td>...</td>\n",
       "      <td>28.0</td>\n",
       "      <td>Seattle-Tacoma-Bellevue, WA MSA</td>\n",
       "      <td>2018-08-13</td>\n",
       "      <td>surf</td>\n",
       "      <td>Ongoing</td>\n",
       "      <td>November</td>\n",
       "      <td>64.0</td>\n",
       "      <td>426.0</td>\n",
       "      <td>36.0</td>\n",
       "      <td>49.0</td>\n",
       "    </tr>\n",
       "    <tr>\n",
       "      <th>3</th>\n",
       "      <td>50.0</td>\n",
       "      <td>15.0</td>\n",
       "      <td>500.0</td>\n",
       "      <td>20.0</td>\n",
       "      <td>10.0</td>\n",
       "      <td>0.03</td>\n",
       "      <td>0.03</td>\n",
       "      <td>surf</td>\n",
       "      <td>1001</td>\n",
       "      <td>Mickey</td>\n",
       "      <td>...</td>\n",
       "      <td>28.0</td>\n",
       "      <td>Seattle-Tacoma-Bellevue, WA MSA</td>\n",
       "      <td>2018-08-13</td>\n",
       "      <td>surf</td>\n",
       "      <td>Ongoing</td>\n",
       "      <td>October</td>\n",
       "      <td>65.0</td>\n",
       "      <td>393.0</td>\n",
       "      <td>53.0</td>\n",
       "      <td>50.0</td>\n",
       "    </tr>\n",
       "    <tr>\n",
       "      <th>4</th>\n",
       "      <td>50.0</td>\n",
       "      <td>15.0</td>\n",
       "      <td>500.0</td>\n",
       "      <td>20.0</td>\n",
       "      <td>10.0</td>\n",
       "      <td>0.03</td>\n",
       "      <td>0.03</td>\n",
       "      <td>surf</td>\n",
       "      <td>1001</td>\n",
       "      <td>Mickey</td>\n",
       "      <td>...</td>\n",
       "      <td>28.0</td>\n",
       "      <td>Seattle-Tacoma-Bellevue, WA MSA</td>\n",
       "      <td>2018-08-13</td>\n",
       "      <td>surf</td>\n",
       "      <td>Ongoing</td>\n",
       "      <td>September</td>\n",
       "      <td>49.0</td>\n",
       "      <td>315.0</td>\n",
       "      <td>44.0</td>\n",
       "      <td>41.0</td>\n",
       "    </tr>\n",
       "    <tr>\n",
       "      <th>...</th>\n",
       "      <td>...</td>\n",
       "      <td>...</td>\n",
       "      <td>...</td>\n",
       "      <td>...</td>\n",
       "      <td>...</td>\n",
       "      <td>...</td>\n",
       "      <td>...</td>\n",
       "      <td>...</td>\n",
       "      <td>...</td>\n",
       "      <td>...</td>\n",
       "      <td>...</td>\n",
       "      <td>...</td>\n",
       "      <td>...</td>\n",
       "      <td>...</td>\n",
       "      <td>...</td>\n",
       "      <td>...</td>\n",
       "      <td>...</td>\n",
       "      <td>...</td>\n",
       "      <td>...</td>\n",
       "      <td>...</td>\n",
       "      <td>...</td>\n",
       "    </tr>\n",
       "    <tr>\n",
       "      <th>2288</th>\n",
       "      <td>NaN</td>\n",
       "      <td>NaN</td>\n",
       "      <td>NaN</td>\n",
       "      <td>NaN</td>\n",
       "      <td>NaN</td>\n",
       "      <td>NaN</td>\n",
       "      <td>NaN</td>\n",
       "      <td>NaN</td>\n",
       "      <td>1349</td>\n",
       "      <td>NaN</td>\n",
       "      <td>...</td>\n",
       "      <td>NaN</td>\n",
       "      <td>NaN</td>\n",
       "      <td>NaT</td>\n",
       "      <td>NaN</td>\n",
       "      <td>NaN</td>\n",
       "      <td>October</td>\n",
       "      <td>NaN</td>\n",
       "      <td>NaN</td>\n",
       "      <td>76.0</td>\n",
       "      <td>27.0</td>\n",
       "    </tr>\n",
       "    <tr>\n",
       "      <th>2289</th>\n",
       "      <td>NaN</td>\n",
       "      <td>NaN</td>\n",
       "      <td>NaN</td>\n",
       "      <td>NaN</td>\n",
       "      <td>NaN</td>\n",
       "      <td>NaN</td>\n",
       "      <td>NaN</td>\n",
       "      <td>NaN</td>\n",
       "      <td>1361</td>\n",
       "      <td>NaN</td>\n",
       "      <td>...</td>\n",
       "      <td>NaN</td>\n",
       "      <td>NaN</td>\n",
       "      <td>NaT</td>\n",
       "      <td>NaN</td>\n",
       "      <td>NaN</td>\n",
       "      <td>May</td>\n",
       "      <td>NaN</td>\n",
       "      <td>NaN</td>\n",
       "      <td>2.0</td>\n",
       "      <td>7.0</td>\n",
       "    </tr>\n",
       "    <tr>\n",
       "      <th>2290</th>\n",
       "      <td>NaN</td>\n",
       "      <td>NaN</td>\n",
       "      <td>NaN</td>\n",
       "      <td>NaN</td>\n",
       "      <td>NaN</td>\n",
       "      <td>NaN</td>\n",
       "      <td>NaN</td>\n",
       "      <td>NaN</td>\n",
       "      <td>1482</td>\n",
       "      <td>NaN</td>\n",
       "      <td>...</td>\n",
       "      <td>NaN</td>\n",
       "      <td>NaN</td>\n",
       "      <td>NaT</td>\n",
       "      <td>NaN</td>\n",
       "      <td>NaN</td>\n",
       "      <td>October</td>\n",
       "      <td>NaN</td>\n",
       "      <td>NaN</td>\n",
       "      <td>2.0</td>\n",
       "      <td>NaN</td>\n",
       "    </tr>\n",
       "    <tr>\n",
       "      <th>2291</th>\n",
       "      <td>NaN</td>\n",
       "      <td>NaN</td>\n",
       "      <td>NaN</td>\n",
       "      <td>NaN</td>\n",
       "      <td>NaN</td>\n",
       "      <td>NaN</td>\n",
       "      <td>NaN</td>\n",
       "      <td>NaN</td>\n",
       "      <td>1108</td>\n",
       "      <td>NaN</td>\n",
       "      <td>...</td>\n",
       "      <td>NaN</td>\n",
       "      <td>NaN</td>\n",
       "      <td>NaT</td>\n",
       "      <td>NaN</td>\n",
       "      <td>NaN</td>\n",
       "      <td>December</td>\n",
       "      <td>NaN</td>\n",
       "      <td>NaN</td>\n",
       "      <td>NaN</td>\n",
       "      <td>2.0</td>\n",
       "    </tr>\n",
       "    <tr>\n",
       "      <th>2292</th>\n",
       "      <td>NaN</td>\n",
       "      <td>NaN</td>\n",
       "      <td>NaN</td>\n",
       "      <td>NaN</td>\n",
       "      <td>NaN</td>\n",
       "      <td>NaN</td>\n",
       "      <td>NaN</td>\n",
       "      <td>NaN</td>\n",
       "      <td>1311</td>\n",
       "      <td>NaN</td>\n",
       "      <td>...</td>\n",
       "      <td>NaN</td>\n",
       "      <td>NaN</td>\n",
       "      <td>NaT</td>\n",
       "      <td>NaN</td>\n",
       "      <td>NaN</td>\n",
       "      <td>June</td>\n",
       "      <td>NaN</td>\n",
       "      <td>NaN</td>\n",
       "      <td>NaN</td>\n",
       "      <td>7.0</td>\n",
       "    </tr>\n",
       "  </tbody>\n",
       "</table>\n",
       "<p>2293 rows × 21 columns</p>\n",
       "</div>"
      ],
      "text/plain": [
       "      messages_included  gb_per_month_included  minutes_included  \\\n",
       "0                  50.0                   15.0             500.0   \n",
       "1                  50.0                   15.0             500.0   \n",
       "2                  50.0                   15.0             500.0   \n",
       "3                  50.0                   15.0             500.0   \n",
       "4                  50.0                   15.0             500.0   \n",
       "...                 ...                    ...               ...   \n",
       "2288                NaN                    NaN               NaN   \n",
       "2289                NaN                    NaN               NaN   \n",
       "2290                NaN                    NaN               NaN   \n",
       "2291                NaN                    NaN               NaN   \n",
       "2292                NaN                    NaN               NaN   \n",
       "\n",
       "      usd_monthly_pay  usd_per_gb  usd_per_message  usd_per_minute plan_name  \\\n",
       "0                20.0        10.0             0.03            0.03      surf   \n",
       "1                20.0        10.0             0.03            0.03      surf   \n",
       "2                20.0        10.0             0.03            0.03      surf   \n",
       "3                20.0        10.0             0.03            0.03      surf   \n",
       "4                20.0        10.0             0.03            0.03      surf   \n",
       "...               ...         ...              ...             ...       ...   \n",
       "2288              NaN         NaN              NaN             NaN       NaN   \n",
       "2289              NaN         NaN              NaN             NaN       NaN   \n",
       "2290              NaN         NaN              NaN             NaN       NaN   \n",
       "2291              NaN         NaN              NaN             NaN       NaN   \n",
       "2292              NaN         NaN              NaN             NaN       NaN   \n",
       "\n",
       "      user_id first_name  ...   age                             city  \\\n",
       "0        1001     Mickey  ...  28.0  Seattle-Tacoma-Bellevue, WA MSA   \n",
       "1        1001     Mickey  ...  28.0  Seattle-Tacoma-Bellevue, WA MSA   \n",
       "2        1001     Mickey  ...  28.0  Seattle-Tacoma-Bellevue, WA MSA   \n",
       "3        1001     Mickey  ...  28.0  Seattle-Tacoma-Bellevue, WA MSA   \n",
       "4        1001     Mickey  ...  28.0  Seattle-Tacoma-Bellevue, WA MSA   \n",
       "...       ...        ...  ...   ...                              ...   \n",
       "2288     1349        NaN  ...   NaN                              NaN   \n",
       "2289     1361        NaN  ...   NaN                              NaN   \n",
       "2290     1482        NaN  ...   NaN                              NaN   \n",
       "2291     1108        NaN  ...   NaN                              NaN   \n",
       "2292     1311        NaN  ...   NaN                              NaN   \n",
       "\n",
       "       reg_date  plan churn_date      month number_calls_per_month  \\\n",
       "0    2018-08-13  surf    Ongoing     August                   27.0   \n",
       "1    2018-08-13  surf    Ongoing   December                   56.0   \n",
       "2    2018-08-13  surf    Ongoing   November                   64.0   \n",
       "3    2018-08-13  surf    Ongoing    October                   65.0   \n",
       "4    2018-08-13  surf    Ongoing  September                   49.0   \n",
       "...         ...   ...        ...        ...                    ...   \n",
       "2288        NaT   NaN        NaN    October                    NaN   \n",
       "2289        NaT   NaN        NaN        May                    NaN   \n",
       "2290        NaT   NaN        NaN    October                    NaN   \n",
       "2291        NaT   NaN        NaN   December                    NaN   \n",
       "2292        NaT   NaN        NaN       June                    NaN   \n",
       "\n",
       "      total_minutes_per_month  number_messages_per_month  gb_used_per_month  \n",
       "0                       182.0                       30.0               21.0  \n",
       "1                       412.0                       44.0               55.0  \n",
       "2                       426.0                       36.0               49.0  \n",
       "3                       393.0                       53.0               50.0  \n",
       "4                       315.0                       44.0               41.0  \n",
       "...                       ...                        ...                ...  \n",
       "2288                      NaN                       76.0               27.0  \n",
       "2289                      NaN                        2.0                7.0  \n",
       "2290                      NaN                        2.0                NaN  \n",
       "2291                      NaN                        NaN                2.0  \n",
       "2292                      NaN                        NaN                7.0  \n",
       "\n",
       "[2293 rows x 21 columns]"
      ]
     },
     "execution_count": 42,
     "metadata": {},
     "output_type": "execute_result"
    }
   ],
   "source": [
    "# Step 5: Merge (final_merged_data) with aggregated internet data on user_id\n",
    "final_merged_data = pd.merge(\n",
    "    final_merged_data,\n",
    "    agg_user_monthly_internet[['user_id', 'gb_used_per_month','month']],\n",
    "    on=['user_id','month'],\n",
    "    how=\"outer\"\n",
    "    )\n",
    "final_merged_data"
   ]
  },
  {
   "cell_type": "code",
   "execution_count": 43,
   "metadata": {},
   "outputs": [
    {
     "name": "stdout",
     "output_type": "stream",
     "text": [
      "messages_included             35\n",
      "gb_per_month_included         35\n",
      "minutes_included              35\n",
      "usd_monthly_pay               35\n",
      "usd_per_gb                    35\n",
      "usd_per_message               35\n",
      "usd_per_minute                35\n",
      "plan_name                     35\n",
      "user_id                        0\n",
      "first_name                    35\n",
      "last_name                     35\n",
      "age                           35\n",
      "city                          35\n",
      "reg_date                      35\n",
      "plan                          35\n",
      "churn_date                    35\n",
      "month                          0\n",
      "number_calls_per_month        35\n",
      "total_minutes_per_month       35\n",
      "number_messages_per_month    487\n",
      "gb_used_per_month             16\n",
      "dtype: int64\n"
     ]
    }
   ],
   "source": [
    "missing_values = final_merged_data.isnull().sum()\n",
    "print(missing_values) #check missing values"
   ]
  },
  {
   "cell_type": "code",
   "execution_count": 44,
   "metadata": {},
   "outputs": [
    {
     "name": "stdout",
     "output_type": "stream",
     "text": [
      "<class 'pandas.core.frame.DataFrame'>\n",
      "Int64Index: 2293 entries, 0 to 2292\n",
      "Data columns (total 21 columns):\n",
      " #   Column                     Non-Null Count  Dtype         \n",
      "---  ------                     --------------  -----         \n",
      " 0   messages_included          2258 non-null   float64       \n",
      " 1   gb_per_month_included      2258 non-null   float64       \n",
      " 2   minutes_included           2258 non-null   float64       \n",
      " 3   usd_monthly_pay            2258 non-null   float64       \n",
      " 4   usd_per_gb                 2258 non-null   float64       \n",
      " 5   usd_per_message            2258 non-null   float64       \n",
      " 6   usd_per_minute             2258 non-null   float64       \n",
      " 7   plan_name                  2258 non-null   object        \n",
      " 8   user_id                    2293 non-null   int64         \n",
      " 9   first_name                 2258 non-null   object        \n",
      " 10  last_name                  2258 non-null   object        \n",
      " 11  age                        2258 non-null   float64       \n",
      " 12  city                       2258 non-null   object        \n",
      " 13  reg_date                   2258 non-null   datetime64[ns]\n",
      " 14  plan                       2258 non-null   category      \n",
      " 15  churn_date                 2258 non-null   object        \n",
      " 16  month                      2293 non-null   object        \n",
      " 17  number_calls_per_month     2258 non-null   float64       \n",
      " 18  total_minutes_per_month    2258 non-null   float64       \n",
      " 19  number_messages_per_month  1806 non-null   float64       \n",
      " 20  gb_used_per_month          2277 non-null   float64       \n",
      "dtypes: category(1), datetime64[ns](1), float64(12), int64(1), object(6)\n",
      "memory usage: 378.6+ KB\n"
     ]
    }
   ],
   "source": [
    "final_merged_data.info()"
   ]
  },
  {
   "cell_type": "code",
   "execution_count": 45,
   "metadata": {},
   "outputs": [],
   "source": [
    "final_merged_data['plan'] = final_merged_data['plan'].astype(object) #change 'plan' from category to object"
   ]
  },
  {
   "cell_type": "code",
   "execution_count": 46,
   "metadata": {},
   "outputs": [],
   "source": [
    "final_merged_data.fillna(0, inplace=True) #fill the missing values with'0'"
   ]
  },
  {
   "cell_type": "code",
   "execution_count": 47,
   "metadata": {},
   "outputs": [
    {
     "name": "stdout",
     "output_type": "stream",
     "text": [
      "messages_included            0\n",
      "gb_per_month_included        0\n",
      "minutes_included             0\n",
      "usd_monthly_pay              0\n",
      "usd_per_gb                   0\n",
      "usd_per_message              0\n",
      "usd_per_minute               0\n",
      "plan_name                    0\n",
      "user_id                      0\n",
      "first_name                   0\n",
      "last_name                    0\n",
      "age                          0\n",
      "city                         0\n",
      "reg_date                     0\n",
      "plan                         0\n",
      "churn_date                   0\n",
      "month                        0\n",
      "number_calls_per_month       0\n",
      "total_minutes_per_month      0\n",
      "number_messages_per_month    0\n",
      "gb_used_per_month            0\n",
      "dtype: int64\n"
     ]
    }
   ],
   "source": [
    "missing_values = final_merged_data.isnull().sum()\n",
    "print(missing_values) #check missing values again for confirmation"
   ]
  },
  {
   "cell_type": "code",
   "execution_count": 48,
   "metadata": {},
   "outputs": [
    {
     "data": {
      "text/html": [
       "<div>\n",
       "<style scoped>\n",
       "    .dataframe tbody tr th:only-of-type {\n",
       "        vertical-align: middle;\n",
       "    }\n",
       "\n",
       "    .dataframe tbody tr th {\n",
       "        vertical-align: top;\n",
       "    }\n",
       "\n",
       "    .dataframe thead th {\n",
       "        text-align: right;\n",
       "    }\n",
       "</style>\n",
       "<table border=\"1\" class=\"dataframe\">\n",
       "  <thead>\n",
       "    <tr style=\"text-align: right;\">\n",
       "      <th></th>\n",
       "      <th>messages_included</th>\n",
       "      <th>gb_per_month_included</th>\n",
       "      <th>minutes_included</th>\n",
       "      <th>usd_monthly_pay</th>\n",
       "      <th>usd_per_gb</th>\n",
       "      <th>usd_per_message</th>\n",
       "      <th>usd_per_minute</th>\n",
       "      <th>plan_name</th>\n",
       "      <th>user_id</th>\n",
       "      <th>first_name</th>\n",
       "      <th>...</th>\n",
       "      <th>age</th>\n",
       "      <th>city</th>\n",
       "      <th>reg_date</th>\n",
       "      <th>plan</th>\n",
       "      <th>churn_date</th>\n",
       "      <th>month</th>\n",
       "      <th>number_calls_per_month</th>\n",
       "      <th>total_minutes_per_month</th>\n",
       "      <th>number_messages_per_month</th>\n",
       "      <th>gb_used_per_month</th>\n",
       "    </tr>\n",
       "  </thead>\n",
       "  <tbody>\n",
       "    <tr>\n",
       "      <th>0</th>\n",
       "      <td>50.0</td>\n",
       "      <td>15.0</td>\n",
       "      <td>500.0</td>\n",
       "      <td>20.0</td>\n",
       "      <td>10.0</td>\n",
       "      <td>0.03</td>\n",
       "      <td>0.03</td>\n",
       "      <td>surf</td>\n",
       "      <td>1001</td>\n",
       "      <td>Mickey</td>\n",
       "      <td>...</td>\n",
       "      <td>28.0</td>\n",
       "      <td>Seattle-Tacoma-Bellevue, WA MSA</td>\n",
       "      <td>2018-08-13 00:00:00</td>\n",
       "      <td>surf</td>\n",
       "      <td>Ongoing</td>\n",
       "      <td>August</td>\n",
       "      <td>27.0</td>\n",
       "      <td>182.0</td>\n",
       "      <td>30.0</td>\n",
       "      <td>21.0</td>\n",
       "    </tr>\n",
       "    <tr>\n",
       "      <th>1</th>\n",
       "      <td>50.0</td>\n",
       "      <td>15.0</td>\n",
       "      <td>500.0</td>\n",
       "      <td>20.0</td>\n",
       "      <td>10.0</td>\n",
       "      <td>0.03</td>\n",
       "      <td>0.03</td>\n",
       "      <td>surf</td>\n",
       "      <td>1001</td>\n",
       "      <td>Mickey</td>\n",
       "      <td>...</td>\n",
       "      <td>28.0</td>\n",
       "      <td>Seattle-Tacoma-Bellevue, WA MSA</td>\n",
       "      <td>2018-08-13 00:00:00</td>\n",
       "      <td>surf</td>\n",
       "      <td>Ongoing</td>\n",
       "      <td>December</td>\n",
       "      <td>56.0</td>\n",
       "      <td>412.0</td>\n",
       "      <td>44.0</td>\n",
       "      <td>55.0</td>\n",
       "    </tr>\n",
       "    <tr>\n",
       "      <th>2</th>\n",
       "      <td>50.0</td>\n",
       "      <td>15.0</td>\n",
       "      <td>500.0</td>\n",
       "      <td>20.0</td>\n",
       "      <td>10.0</td>\n",
       "      <td>0.03</td>\n",
       "      <td>0.03</td>\n",
       "      <td>surf</td>\n",
       "      <td>1001</td>\n",
       "      <td>Mickey</td>\n",
       "      <td>...</td>\n",
       "      <td>28.0</td>\n",
       "      <td>Seattle-Tacoma-Bellevue, WA MSA</td>\n",
       "      <td>2018-08-13 00:00:00</td>\n",
       "      <td>surf</td>\n",
       "      <td>Ongoing</td>\n",
       "      <td>November</td>\n",
       "      <td>64.0</td>\n",
       "      <td>426.0</td>\n",
       "      <td>36.0</td>\n",
       "      <td>49.0</td>\n",
       "    </tr>\n",
       "    <tr>\n",
       "      <th>3</th>\n",
       "      <td>50.0</td>\n",
       "      <td>15.0</td>\n",
       "      <td>500.0</td>\n",
       "      <td>20.0</td>\n",
       "      <td>10.0</td>\n",
       "      <td>0.03</td>\n",
       "      <td>0.03</td>\n",
       "      <td>surf</td>\n",
       "      <td>1001</td>\n",
       "      <td>Mickey</td>\n",
       "      <td>...</td>\n",
       "      <td>28.0</td>\n",
       "      <td>Seattle-Tacoma-Bellevue, WA MSA</td>\n",
       "      <td>2018-08-13 00:00:00</td>\n",
       "      <td>surf</td>\n",
       "      <td>Ongoing</td>\n",
       "      <td>October</td>\n",
       "      <td>65.0</td>\n",
       "      <td>393.0</td>\n",
       "      <td>53.0</td>\n",
       "      <td>50.0</td>\n",
       "    </tr>\n",
       "    <tr>\n",
       "      <th>4</th>\n",
       "      <td>50.0</td>\n",
       "      <td>15.0</td>\n",
       "      <td>500.0</td>\n",
       "      <td>20.0</td>\n",
       "      <td>10.0</td>\n",
       "      <td>0.03</td>\n",
       "      <td>0.03</td>\n",
       "      <td>surf</td>\n",
       "      <td>1001</td>\n",
       "      <td>Mickey</td>\n",
       "      <td>...</td>\n",
       "      <td>28.0</td>\n",
       "      <td>Seattle-Tacoma-Bellevue, WA MSA</td>\n",
       "      <td>2018-08-13 00:00:00</td>\n",
       "      <td>surf</td>\n",
       "      <td>Ongoing</td>\n",
       "      <td>September</td>\n",
       "      <td>49.0</td>\n",
       "      <td>315.0</td>\n",
       "      <td>44.0</td>\n",
       "      <td>41.0</td>\n",
       "    </tr>\n",
       "    <tr>\n",
       "      <th>...</th>\n",
       "      <td>...</td>\n",
       "      <td>...</td>\n",
       "      <td>...</td>\n",
       "      <td>...</td>\n",
       "      <td>...</td>\n",
       "      <td>...</td>\n",
       "      <td>...</td>\n",
       "      <td>...</td>\n",
       "      <td>...</td>\n",
       "      <td>...</td>\n",
       "      <td>...</td>\n",
       "      <td>...</td>\n",
       "      <td>...</td>\n",
       "      <td>...</td>\n",
       "      <td>...</td>\n",
       "      <td>...</td>\n",
       "      <td>...</td>\n",
       "      <td>...</td>\n",
       "      <td>...</td>\n",
       "      <td>...</td>\n",
       "      <td>...</td>\n",
       "    </tr>\n",
       "    <tr>\n",
       "      <th>2288</th>\n",
       "      <td>0.0</td>\n",
       "      <td>0.0</td>\n",
       "      <td>0.0</td>\n",
       "      <td>0.0</td>\n",
       "      <td>0.0</td>\n",
       "      <td>0.00</td>\n",
       "      <td>0.00</td>\n",
       "      <td>0</td>\n",
       "      <td>1349</td>\n",
       "      <td>0</td>\n",
       "      <td>...</td>\n",
       "      <td>0.0</td>\n",
       "      <td>0</td>\n",
       "      <td>0</td>\n",
       "      <td>0</td>\n",
       "      <td>0</td>\n",
       "      <td>October</td>\n",
       "      <td>0.0</td>\n",
       "      <td>0.0</td>\n",
       "      <td>76.0</td>\n",
       "      <td>27.0</td>\n",
       "    </tr>\n",
       "    <tr>\n",
       "      <th>2289</th>\n",
       "      <td>0.0</td>\n",
       "      <td>0.0</td>\n",
       "      <td>0.0</td>\n",
       "      <td>0.0</td>\n",
       "      <td>0.0</td>\n",
       "      <td>0.00</td>\n",
       "      <td>0.00</td>\n",
       "      <td>0</td>\n",
       "      <td>1361</td>\n",
       "      <td>0</td>\n",
       "      <td>...</td>\n",
       "      <td>0.0</td>\n",
       "      <td>0</td>\n",
       "      <td>0</td>\n",
       "      <td>0</td>\n",
       "      <td>0</td>\n",
       "      <td>May</td>\n",
       "      <td>0.0</td>\n",
       "      <td>0.0</td>\n",
       "      <td>2.0</td>\n",
       "      <td>7.0</td>\n",
       "    </tr>\n",
       "    <tr>\n",
       "      <th>2290</th>\n",
       "      <td>0.0</td>\n",
       "      <td>0.0</td>\n",
       "      <td>0.0</td>\n",
       "      <td>0.0</td>\n",
       "      <td>0.0</td>\n",
       "      <td>0.00</td>\n",
       "      <td>0.00</td>\n",
       "      <td>0</td>\n",
       "      <td>1482</td>\n",
       "      <td>0</td>\n",
       "      <td>...</td>\n",
       "      <td>0.0</td>\n",
       "      <td>0</td>\n",
       "      <td>0</td>\n",
       "      <td>0</td>\n",
       "      <td>0</td>\n",
       "      <td>October</td>\n",
       "      <td>0.0</td>\n",
       "      <td>0.0</td>\n",
       "      <td>2.0</td>\n",
       "      <td>0.0</td>\n",
       "    </tr>\n",
       "    <tr>\n",
       "      <th>2291</th>\n",
       "      <td>0.0</td>\n",
       "      <td>0.0</td>\n",
       "      <td>0.0</td>\n",
       "      <td>0.0</td>\n",
       "      <td>0.0</td>\n",
       "      <td>0.00</td>\n",
       "      <td>0.00</td>\n",
       "      <td>0</td>\n",
       "      <td>1108</td>\n",
       "      <td>0</td>\n",
       "      <td>...</td>\n",
       "      <td>0.0</td>\n",
       "      <td>0</td>\n",
       "      <td>0</td>\n",
       "      <td>0</td>\n",
       "      <td>0</td>\n",
       "      <td>December</td>\n",
       "      <td>0.0</td>\n",
       "      <td>0.0</td>\n",
       "      <td>0.0</td>\n",
       "      <td>2.0</td>\n",
       "    </tr>\n",
       "    <tr>\n",
       "      <th>2292</th>\n",
       "      <td>0.0</td>\n",
       "      <td>0.0</td>\n",
       "      <td>0.0</td>\n",
       "      <td>0.0</td>\n",
       "      <td>0.0</td>\n",
       "      <td>0.00</td>\n",
       "      <td>0.00</td>\n",
       "      <td>0</td>\n",
       "      <td>1311</td>\n",
       "      <td>0</td>\n",
       "      <td>...</td>\n",
       "      <td>0.0</td>\n",
       "      <td>0</td>\n",
       "      <td>0</td>\n",
       "      <td>0</td>\n",
       "      <td>0</td>\n",
       "      <td>June</td>\n",
       "      <td>0.0</td>\n",
       "      <td>0.0</td>\n",
       "      <td>0.0</td>\n",
       "      <td>7.0</td>\n",
       "    </tr>\n",
       "  </tbody>\n",
       "</table>\n",
       "<p>2293 rows × 21 columns</p>\n",
       "</div>"
      ],
      "text/plain": [
       "      messages_included  gb_per_month_included  minutes_included  \\\n",
       "0                  50.0                   15.0             500.0   \n",
       "1                  50.0                   15.0             500.0   \n",
       "2                  50.0                   15.0             500.0   \n",
       "3                  50.0                   15.0             500.0   \n",
       "4                  50.0                   15.0             500.0   \n",
       "...                 ...                    ...               ...   \n",
       "2288                0.0                    0.0               0.0   \n",
       "2289                0.0                    0.0               0.0   \n",
       "2290                0.0                    0.0               0.0   \n",
       "2291                0.0                    0.0               0.0   \n",
       "2292                0.0                    0.0               0.0   \n",
       "\n",
       "      usd_monthly_pay  usd_per_gb  usd_per_message  usd_per_minute plan_name  \\\n",
       "0                20.0        10.0             0.03            0.03      surf   \n",
       "1                20.0        10.0             0.03            0.03      surf   \n",
       "2                20.0        10.0             0.03            0.03      surf   \n",
       "3                20.0        10.0             0.03            0.03      surf   \n",
       "4                20.0        10.0             0.03            0.03      surf   \n",
       "...               ...         ...              ...             ...       ...   \n",
       "2288              0.0         0.0             0.00            0.00         0   \n",
       "2289              0.0         0.0             0.00            0.00         0   \n",
       "2290              0.0         0.0             0.00            0.00         0   \n",
       "2291              0.0         0.0             0.00            0.00         0   \n",
       "2292              0.0         0.0             0.00            0.00         0   \n",
       "\n",
       "      user_id first_name  ...   age                             city  \\\n",
       "0        1001     Mickey  ...  28.0  Seattle-Tacoma-Bellevue, WA MSA   \n",
       "1        1001     Mickey  ...  28.0  Seattle-Tacoma-Bellevue, WA MSA   \n",
       "2        1001     Mickey  ...  28.0  Seattle-Tacoma-Bellevue, WA MSA   \n",
       "3        1001     Mickey  ...  28.0  Seattle-Tacoma-Bellevue, WA MSA   \n",
       "4        1001     Mickey  ...  28.0  Seattle-Tacoma-Bellevue, WA MSA   \n",
       "...       ...        ...  ...   ...                              ...   \n",
       "2288     1349          0  ...   0.0                                0   \n",
       "2289     1361          0  ...   0.0                                0   \n",
       "2290     1482          0  ...   0.0                                0   \n",
       "2291     1108          0  ...   0.0                                0   \n",
       "2292     1311          0  ...   0.0                                0   \n",
       "\n",
       "                 reg_date  plan churn_date      month number_calls_per_month  \\\n",
       "0     2018-08-13 00:00:00  surf    Ongoing     August                   27.0   \n",
       "1     2018-08-13 00:00:00  surf    Ongoing   December                   56.0   \n",
       "2     2018-08-13 00:00:00  surf    Ongoing   November                   64.0   \n",
       "3     2018-08-13 00:00:00  surf    Ongoing    October                   65.0   \n",
       "4     2018-08-13 00:00:00  surf    Ongoing  September                   49.0   \n",
       "...                   ...   ...        ...        ...                    ...   \n",
       "2288                    0     0          0    October                    0.0   \n",
       "2289                    0     0          0        May                    0.0   \n",
       "2290                    0     0          0    October                    0.0   \n",
       "2291                    0     0          0   December                    0.0   \n",
       "2292                    0     0          0       June                    0.0   \n",
       "\n",
       "      total_minutes_per_month  number_messages_per_month  gb_used_per_month  \n",
       "0                       182.0                       30.0               21.0  \n",
       "1                       412.0                       44.0               55.0  \n",
       "2                       426.0                       36.0               49.0  \n",
       "3                       393.0                       53.0               50.0  \n",
       "4                       315.0                       44.0               41.0  \n",
       "...                       ...                        ...                ...  \n",
       "2288                      0.0                       76.0               27.0  \n",
       "2289                      0.0                        2.0                7.0  \n",
       "2290                      0.0                        2.0                0.0  \n",
       "2291                      0.0                        0.0                2.0  \n",
       "2292                      0.0                        0.0                7.0  \n",
       "\n",
       "[2293 rows x 21 columns]"
      ]
     },
     "execution_count": 48,
     "metadata": {},
     "output_type": "execute_result"
    }
   ],
   "source": [
    "final_merged_data"
   ]
  },
  {
   "cell_type": "markdown",
   "metadata": {},
   "source": [
    "<a id=\"18\"></a> \n",
    "## Monthly revenue from each user\n",
    "- Monthly revenue were calculated from each user, based on the condition of:"
   ]
  },
  {
   "cell_type": "raw",
   "metadata": {},
   "source": [
    "(1) Surf\n",
    "  - Monthly charge: $20\n",
    "\n",
    "Free early package:\n",
    "  - 500 monthly minutes, 50 texts, and 15 GB of data\n",
    "After exceeding the package limits:\n",
    "  - 1 minute: 3 cents\n",
    "  - 1 text message: 3 cents\n",
    "  - 1 GB of data: $10\n",
    "  \n",
    "(2) Ultimate\n",
    "  - Monthly charge: $70\n",
    "  \n",
    "Free early package:\n",
    "  - 3000 monthly minutes, 1000 text messages, and 30 GB of data\n",
    "After exceeding the package limits:\n",
    "  - 1 minute: 1 cent\n",
    "  - 1 text message: 1 cent\n",
    "  - 1 GB of data: $7"
   ]
  },
  {
   "cell_type": "code",
   "execution_count": 49,
   "metadata": {},
   "outputs": [
    {
     "data": {
      "text/html": [
       "<div>\n",
       "<style scoped>\n",
       "    .dataframe tbody tr th:only-of-type {\n",
       "        vertical-align: middle;\n",
       "    }\n",
       "\n",
       "    .dataframe tbody tr th {\n",
       "        vertical-align: top;\n",
       "    }\n",
       "\n",
       "    .dataframe thead th {\n",
       "        text-align: right;\n",
       "    }\n",
       "</style>\n",
       "<table border=\"1\" class=\"dataframe\">\n",
       "  <thead>\n",
       "    <tr style=\"text-align: right;\">\n",
       "      <th></th>\n",
       "      <th>messages_included</th>\n",
       "      <th>gb_per_month_included</th>\n",
       "      <th>minutes_included</th>\n",
       "      <th>usd_monthly_pay</th>\n",
       "      <th>usd_per_gb</th>\n",
       "      <th>usd_per_message</th>\n",
       "      <th>usd_per_minute</th>\n",
       "      <th>plan_name</th>\n",
       "      <th>user_id</th>\n",
       "      <th>first_name</th>\n",
       "      <th>...</th>\n",
       "      <th>city</th>\n",
       "      <th>reg_date</th>\n",
       "      <th>plan</th>\n",
       "      <th>churn_date</th>\n",
       "      <th>month</th>\n",
       "      <th>number_calls_per_month</th>\n",
       "      <th>total_minutes_per_month</th>\n",
       "      <th>number_messages_per_month</th>\n",
       "      <th>gb_used_per_month</th>\n",
       "      <th>monthly_profit</th>\n",
       "    </tr>\n",
       "  </thead>\n",
       "  <tbody>\n",
       "    <tr>\n",
       "      <th>0</th>\n",
       "      <td>50.0</td>\n",
       "      <td>15.0</td>\n",
       "      <td>500.0</td>\n",
       "      <td>20.0</td>\n",
       "      <td>10.0</td>\n",
       "      <td>0.03</td>\n",
       "      <td>0.03</td>\n",
       "      <td>surf</td>\n",
       "      <td>1001</td>\n",
       "      <td>Mickey</td>\n",
       "      <td>...</td>\n",
       "      <td>Seattle-Tacoma-Bellevue, WA MSA</td>\n",
       "      <td>2018-08-13 00:00:00</td>\n",
       "      <td>surf</td>\n",
       "      <td>Ongoing</td>\n",
       "      <td>August</td>\n",
       "      <td>27.0</td>\n",
       "      <td>182.0</td>\n",
       "      <td>30.0</td>\n",
       "      <td>21.0</td>\n",
       "      <td>60.00</td>\n",
       "    </tr>\n",
       "    <tr>\n",
       "      <th>1</th>\n",
       "      <td>50.0</td>\n",
       "      <td>15.0</td>\n",
       "      <td>500.0</td>\n",
       "      <td>20.0</td>\n",
       "      <td>10.0</td>\n",
       "      <td>0.03</td>\n",
       "      <td>0.03</td>\n",
       "      <td>surf</td>\n",
       "      <td>1001</td>\n",
       "      <td>Mickey</td>\n",
       "      <td>...</td>\n",
       "      <td>Seattle-Tacoma-Bellevue, WA MSA</td>\n",
       "      <td>2018-08-13 00:00:00</td>\n",
       "      <td>surf</td>\n",
       "      <td>Ongoing</td>\n",
       "      <td>December</td>\n",
       "      <td>56.0</td>\n",
       "      <td>412.0</td>\n",
       "      <td>44.0</td>\n",
       "      <td>55.0</td>\n",
       "      <td>400.00</td>\n",
       "    </tr>\n",
       "    <tr>\n",
       "      <th>2</th>\n",
       "      <td>50.0</td>\n",
       "      <td>15.0</td>\n",
       "      <td>500.0</td>\n",
       "      <td>20.0</td>\n",
       "      <td>10.0</td>\n",
       "      <td>0.03</td>\n",
       "      <td>0.03</td>\n",
       "      <td>surf</td>\n",
       "      <td>1001</td>\n",
       "      <td>Mickey</td>\n",
       "      <td>...</td>\n",
       "      <td>Seattle-Tacoma-Bellevue, WA MSA</td>\n",
       "      <td>2018-08-13 00:00:00</td>\n",
       "      <td>surf</td>\n",
       "      <td>Ongoing</td>\n",
       "      <td>November</td>\n",
       "      <td>64.0</td>\n",
       "      <td>426.0</td>\n",
       "      <td>36.0</td>\n",
       "      <td>49.0</td>\n",
       "      <td>340.00</td>\n",
       "    </tr>\n",
       "    <tr>\n",
       "      <th>3</th>\n",
       "      <td>50.0</td>\n",
       "      <td>15.0</td>\n",
       "      <td>500.0</td>\n",
       "      <td>20.0</td>\n",
       "      <td>10.0</td>\n",
       "      <td>0.03</td>\n",
       "      <td>0.03</td>\n",
       "      <td>surf</td>\n",
       "      <td>1001</td>\n",
       "      <td>Mickey</td>\n",
       "      <td>...</td>\n",
       "      <td>Seattle-Tacoma-Bellevue, WA MSA</td>\n",
       "      <td>2018-08-13 00:00:00</td>\n",
       "      <td>surf</td>\n",
       "      <td>Ongoing</td>\n",
       "      <td>October</td>\n",
       "      <td>65.0</td>\n",
       "      <td>393.0</td>\n",
       "      <td>53.0</td>\n",
       "      <td>50.0</td>\n",
       "      <td>350.09</td>\n",
       "    </tr>\n",
       "    <tr>\n",
       "      <th>4</th>\n",
       "      <td>50.0</td>\n",
       "      <td>15.0</td>\n",
       "      <td>500.0</td>\n",
       "      <td>20.0</td>\n",
       "      <td>10.0</td>\n",
       "      <td>0.03</td>\n",
       "      <td>0.03</td>\n",
       "      <td>surf</td>\n",
       "      <td>1001</td>\n",
       "      <td>Mickey</td>\n",
       "      <td>...</td>\n",
       "      <td>Seattle-Tacoma-Bellevue, WA MSA</td>\n",
       "      <td>2018-08-13 00:00:00</td>\n",
       "      <td>surf</td>\n",
       "      <td>Ongoing</td>\n",
       "      <td>September</td>\n",
       "      <td>49.0</td>\n",
       "      <td>315.0</td>\n",
       "      <td>44.0</td>\n",
       "      <td>41.0</td>\n",
       "      <td>260.00</td>\n",
       "    </tr>\n",
       "    <tr>\n",
       "      <th>...</th>\n",
       "      <td>...</td>\n",
       "      <td>...</td>\n",
       "      <td>...</td>\n",
       "      <td>...</td>\n",
       "      <td>...</td>\n",
       "      <td>...</td>\n",
       "      <td>...</td>\n",
       "      <td>...</td>\n",
       "      <td>...</td>\n",
       "      <td>...</td>\n",
       "      <td>...</td>\n",
       "      <td>...</td>\n",
       "      <td>...</td>\n",
       "      <td>...</td>\n",
       "      <td>...</td>\n",
       "      <td>...</td>\n",
       "      <td>...</td>\n",
       "      <td>...</td>\n",
       "      <td>...</td>\n",
       "      <td>...</td>\n",
       "      <td>...</td>\n",
       "    </tr>\n",
       "    <tr>\n",
       "      <th>2288</th>\n",
       "      <td>0.0</td>\n",
       "      <td>0.0</td>\n",
       "      <td>0.0</td>\n",
       "      <td>0.0</td>\n",
       "      <td>0.0</td>\n",
       "      <td>0.00</td>\n",
       "      <td>0.00</td>\n",
       "      <td>0</td>\n",
       "      <td>1349</td>\n",
       "      <td>0</td>\n",
       "      <td>...</td>\n",
       "      <td>0</td>\n",
       "      <td>0</td>\n",
       "      <td>0</td>\n",
       "      <td>0</td>\n",
       "      <td>October</td>\n",
       "      <td>0.0</td>\n",
       "      <td>0.0</td>\n",
       "      <td>76.0</td>\n",
       "      <td>27.0</td>\n",
       "      <td>0.00</td>\n",
       "    </tr>\n",
       "    <tr>\n",
       "      <th>2289</th>\n",
       "      <td>0.0</td>\n",
       "      <td>0.0</td>\n",
       "      <td>0.0</td>\n",
       "      <td>0.0</td>\n",
       "      <td>0.0</td>\n",
       "      <td>0.00</td>\n",
       "      <td>0.00</td>\n",
       "      <td>0</td>\n",
       "      <td>1361</td>\n",
       "      <td>0</td>\n",
       "      <td>...</td>\n",
       "      <td>0</td>\n",
       "      <td>0</td>\n",
       "      <td>0</td>\n",
       "      <td>0</td>\n",
       "      <td>May</td>\n",
       "      <td>0.0</td>\n",
       "      <td>0.0</td>\n",
       "      <td>2.0</td>\n",
       "      <td>7.0</td>\n",
       "      <td>0.00</td>\n",
       "    </tr>\n",
       "    <tr>\n",
       "      <th>2290</th>\n",
       "      <td>0.0</td>\n",
       "      <td>0.0</td>\n",
       "      <td>0.0</td>\n",
       "      <td>0.0</td>\n",
       "      <td>0.0</td>\n",
       "      <td>0.00</td>\n",
       "      <td>0.00</td>\n",
       "      <td>0</td>\n",
       "      <td>1482</td>\n",
       "      <td>0</td>\n",
       "      <td>...</td>\n",
       "      <td>0</td>\n",
       "      <td>0</td>\n",
       "      <td>0</td>\n",
       "      <td>0</td>\n",
       "      <td>October</td>\n",
       "      <td>0.0</td>\n",
       "      <td>0.0</td>\n",
       "      <td>2.0</td>\n",
       "      <td>0.0</td>\n",
       "      <td>0.00</td>\n",
       "    </tr>\n",
       "    <tr>\n",
       "      <th>2291</th>\n",
       "      <td>0.0</td>\n",
       "      <td>0.0</td>\n",
       "      <td>0.0</td>\n",
       "      <td>0.0</td>\n",
       "      <td>0.0</td>\n",
       "      <td>0.00</td>\n",
       "      <td>0.00</td>\n",
       "      <td>0</td>\n",
       "      <td>1108</td>\n",
       "      <td>0</td>\n",
       "      <td>...</td>\n",
       "      <td>0</td>\n",
       "      <td>0</td>\n",
       "      <td>0</td>\n",
       "      <td>0</td>\n",
       "      <td>December</td>\n",
       "      <td>0.0</td>\n",
       "      <td>0.0</td>\n",
       "      <td>0.0</td>\n",
       "      <td>2.0</td>\n",
       "      <td>0.00</td>\n",
       "    </tr>\n",
       "    <tr>\n",
       "      <th>2292</th>\n",
       "      <td>0.0</td>\n",
       "      <td>0.0</td>\n",
       "      <td>0.0</td>\n",
       "      <td>0.0</td>\n",
       "      <td>0.0</td>\n",
       "      <td>0.00</td>\n",
       "      <td>0.00</td>\n",
       "      <td>0</td>\n",
       "      <td>1311</td>\n",
       "      <td>0</td>\n",
       "      <td>...</td>\n",
       "      <td>0</td>\n",
       "      <td>0</td>\n",
       "      <td>0</td>\n",
       "      <td>0</td>\n",
       "      <td>June</td>\n",
       "      <td>0.0</td>\n",
       "      <td>0.0</td>\n",
       "      <td>0.0</td>\n",
       "      <td>7.0</td>\n",
       "      <td>0.00</td>\n",
       "    </tr>\n",
       "  </tbody>\n",
       "</table>\n",
       "<p>2293 rows × 22 columns</p>\n",
       "</div>"
      ],
      "text/plain": [
       "      messages_included  gb_per_month_included  minutes_included  \\\n",
       "0                  50.0                   15.0             500.0   \n",
       "1                  50.0                   15.0             500.0   \n",
       "2                  50.0                   15.0             500.0   \n",
       "3                  50.0                   15.0             500.0   \n",
       "4                  50.0                   15.0             500.0   \n",
       "...                 ...                    ...               ...   \n",
       "2288                0.0                    0.0               0.0   \n",
       "2289                0.0                    0.0               0.0   \n",
       "2290                0.0                    0.0               0.0   \n",
       "2291                0.0                    0.0               0.0   \n",
       "2292                0.0                    0.0               0.0   \n",
       "\n",
       "      usd_monthly_pay  usd_per_gb  usd_per_message  usd_per_minute plan_name  \\\n",
       "0                20.0        10.0             0.03            0.03      surf   \n",
       "1                20.0        10.0             0.03            0.03      surf   \n",
       "2                20.0        10.0             0.03            0.03      surf   \n",
       "3                20.0        10.0             0.03            0.03      surf   \n",
       "4                20.0        10.0             0.03            0.03      surf   \n",
       "...               ...         ...              ...             ...       ...   \n",
       "2288              0.0         0.0             0.00            0.00         0   \n",
       "2289              0.0         0.0             0.00            0.00         0   \n",
       "2290              0.0         0.0             0.00            0.00         0   \n",
       "2291              0.0         0.0             0.00            0.00         0   \n",
       "2292              0.0         0.0             0.00            0.00         0   \n",
       "\n",
       "      user_id first_name  ...                             city  \\\n",
       "0        1001     Mickey  ...  Seattle-Tacoma-Bellevue, WA MSA   \n",
       "1        1001     Mickey  ...  Seattle-Tacoma-Bellevue, WA MSA   \n",
       "2        1001     Mickey  ...  Seattle-Tacoma-Bellevue, WA MSA   \n",
       "3        1001     Mickey  ...  Seattle-Tacoma-Bellevue, WA MSA   \n",
       "4        1001     Mickey  ...  Seattle-Tacoma-Bellevue, WA MSA   \n",
       "...       ...        ...  ...                              ...   \n",
       "2288     1349          0  ...                                0   \n",
       "2289     1361          0  ...                                0   \n",
       "2290     1482          0  ...                                0   \n",
       "2291     1108          0  ...                                0   \n",
       "2292     1311          0  ...                                0   \n",
       "\n",
       "                 reg_date  plan churn_date      month number_calls_per_month  \\\n",
       "0     2018-08-13 00:00:00  surf    Ongoing     August                   27.0   \n",
       "1     2018-08-13 00:00:00  surf    Ongoing   December                   56.0   \n",
       "2     2018-08-13 00:00:00  surf    Ongoing   November                   64.0   \n",
       "3     2018-08-13 00:00:00  surf    Ongoing    October                   65.0   \n",
       "4     2018-08-13 00:00:00  surf    Ongoing  September                   49.0   \n",
       "...                   ...   ...        ...        ...                    ...   \n",
       "2288                    0     0          0    October                    0.0   \n",
       "2289                    0     0          0        May                    0.0   \n",
       "2290                    0     0          0    October                    0.0   \n",
       "2291                    0     0          0   December                    0.0   \n",
       "2292                    0     0          0       June                    0.0   \n",
       "\n",
       "     total_minutes_per_month  number_messages_per_month  gb_used_per_month  \\\n",
       "0                      182.0                       30.0               21.0   \n",
       "1                      412.0                       44.0               55.0   \n",
       "2                      426.0                       36.0               49.0   \n",
       "3                      393.0                       53.0               50.0   \n",
       "4                      315.0                       44.0               41.0   \n",
       "...                      ...                        ...                ...   \n",
       "2288                     0.0                       76.0               27.0   \n",
       "2289                     0.0                        2.0                7.0   \n",
       "2290                     0.0                        2.0                0.0   \n",
       "2291                     0.0                        0.0                2.0   \n",
       "2292                     0.0                        0.0                7.0   \n",
       "\n",
       "      monthly_profit  \n",
       "0              60.00  \n",
       "1             400.00  \n",
       "2             340.00  \n",
       "3             350.09  \n",
       "4             260.00  \n",
       "...              ...  \n",
       "2288            0.00  \n",
       "2289            0.00  \n",
       "2290            0.00  \n",
       "2291            0.00  \n",
       "2292            0.00  \n",
       "\n",
       "[2293 rows x 22 columns]"
      ]
     },
     "execution_count": 49,
     "metadata": {},
     "output_type": "execute_result"
    }
   ],
   "source": [
    "def monthly_profit(row): # make a function called monthly_profit that takes a table row as argument\n",
    "    minutes_diff = 0 # make a variable called mins_diff and sets it to zero\n",
    "    messages_diff = 0 # make a variable called mess_diff and sets it to zero\n",
    "    gb_diff = 0 # make a variable called gb_diff and sets it to zero\n",
    "    profit=0 # make a variable called profit and sets it to zero\n",
    "    \n",
    "    #conditional statement\n",
    "    if row[\"plan_name\"] == 'surf': \n",
    "        \n",
    "        if row['total_minutes_per_month'] > row[\"minutes_included\"]:\n",
    "            \n",
    "            minutes_diff = row['total_minutes_per_month'] - row[\"minutes_included\"]\n",
    "            # minutes_diff will take the value of the 'total_minutes_per_month' column minus the package limit for surf\n",
    "            \n",
    "        if row['number_messages_per_month'] > row[\"messages_included\"]:\n",
    "        \n",
    "            messages_diff = row['number_messages_per_month'] - row[\"messages_included\"]\n",
    "            # messages_diff becomes the difference between the value at the 'number_messages_per_month' column and\n",
    "            # the package limit for surf\n",
    "            \n",
    "        if row['gb_used_per_month'] > row[\"gb_per_month_included\"]: \n",
    "            gb_diff = row['gb_used_per_month'] - row[\"gb_per_month_included\"]\n",
    "            # gb_diff becomes the difference between the value at the 'gb_used_per_month' coulmn and the\n",
    "            # package limit for surf\n",
    "            \n",
    "        profit = (minutes_diff * .03) + (messages_diff * .03) + (gb_diff * 10)\n",
    "        # profit for 'surf'\n",
    "    \n",
    "    #conditional statement \n",
    "    if row[\"plan_name\"] == 'ultimate': \n",
    "        \n",
    "        if row['total_minutes_per_month'] > row[\"minutes_included\"]:\n",
    "            \n",
    "            minutes_diff = row['total_minutes_per_month'] - row[\"minutes_included\"]\n",
    "            # minutes_diff will take the value of the 'total_minutes_per_month' column minus the package limit for\n",
    "            # ultimate\n",
    "  \n",
    "        if row['number_messages_per_month'] > row[\"messages_included\"]:\n",
    "            \n",
    "            messages_diff = row['number_messages_per_month'] - row[\"messages_included\"]\n",
    "            # message_diff becomes the difference between the value at the 'number_messages_per_month' column and\n",
    "            # the package limit for ultimate\n",
    "            \n",
    "        if row['gb_used_per_month'] > row[\"gb_per_month_included\"]: \n",
    "            gb_diff = row['gb_used_per_month'] - row[\"gb_per_month_included\"]\n",
    "            # gb_diff becomes the difference between the value at the 'gb_used_per_month' coulmn and the\n",
    "            # package limit for ultimate\n",
    "            \n",
    "        profit = (minutes_diff * .01) + (messages_diff * .01) + (gb_diff * 7)\n",
    "        # profit for 'ultimate'\n",
    "        \n",
    "    return profit #returns the value of the profit variable\n",
    "\n",
    "final_merged_data['monthly_profit'] = final_merged_data.apply(monthly_profit, axis=1)\n",
    "# applies the new column monthly_profit to 'user_stats' table\n",
    "\n",
    "final_merged_data"
   ]
  },
  {
   "cell_type": "code",
   "execution_count": 50,
   "metadata": {},
   "outputs": [
    {
     "data": {
      "text/plain": [
       "0"
      ]
     },
     "execution_count": 50,
     "metadata": {},
     "output_type": "execute_result"
    }
   ],
   "source": [
    "final_merged_data['monthly_profit'].isna().sum()"
   ]
  },
  {
   "cell_type": "markdown",
   "metadata": {},
   "source": [
    "<a id=\"19\"></a> \n",
    "## Column: Region\n",
    "- The purpose of adding table of  'region' to user_stats table are to differentiate between NY-NJ area and others area"
   ]
  },
  {
   "cell_type": "code",
   "execution_count": 51,
   "metadata": {
    "scrolled": false
   },
   "outputs": [
    {
     "data": {
      "text/plain": [
       "array(['Seattle-Tacoma-Bellevue, WA MSA',\n",
       "       'Las Vegas-Henderson-Paradise, NV MSA', 'Tulsa, OK MSA',\n",
       "       'Dallas-Fort Worth-Arlington, TX MSA',\n",
       "       'Grand Rapids-Kentwood, MI MSA',\n",
       "       'San Jose-Sunnyvale-Santa Clara, CA MSA',\n",
       "       'Chicago-Naperville-Elgin, IL-IN-WI MSA',\n",
       "       'New York-Newark-Jersey City, NY-NJ-PA MSA', 'Pittsburgh, PA MSA',\n",
       "       'Fresno, CA MSA',\n",
       "       'Washington-Arlington-Alexandria, DC-VA-MD-WV MSA',\n",
       "       'Indianapolis-Carmel-Anderson, IN MSA', 'Jacksonville, FL MSA',\n",
       "       'Los Angeles-Long Beach-Anaheim, CA MSA',\n",
       "       'Omaha-Council Bluffs, NE-IA MSA',\n",
       "       'Tampa-St. Petersburg-Clearwater, FL MSA',\n",
       "       'Charlotte-Concord-Gastonia, NC-SC MSA',\n",
       "       'Philadelphia-Camden-Wilmington, PA-NJ-DE-MD MSA',\n",
       "       'Albuquerque, NM MSA', 'Boston-Cambridge-Newton, MA-NH MSA',\n",
       "       'Miami-Fort Lauderdale-West Palm Beach, FL MSA',\n",
       "       'San Diego-Chula Vista-Carlsbad, CA MSA',\n",
       "       'Houston-The Woodlands-Sugar Land, TX MSA',\n",
       "       'Phoenix-Mesa-Chandler, AZ MSA',\n",
       "       'Portland-Vancouver-Hillsboro, OR-WA MSA',\n",
       "       'Cincinnati, OH-KY-IN MSA',\n",
       "       'Atlanta-Sandy Springs-Roswell, GA MSA',\n",
       "       'Buffalo-Cheektowaga, NY MSA', 'Memphis, TN-MS-AR MSA',\n",
       "       'Nashville-Davidson–Murfreesboro–Franklin, TN MSA',\n",
       "       'Louisville/Jefferson County, KY-IN MSA',\n",
       "       'Albany-Schenectady-Troy, NY MSA', 'Providence-Warwick, RI-MA MSA',\n",
       "       'Urban Honolulu, HI MSA', 'El Paso, TX MSA', 'Columbus, OH MSA',\n",
       "       'North Port-Sarasota-Bradenton, FL MSA', 'Knoxville, TN MSA',\n",
       "       'Riverside-San Bernardino-Ontario, CA MSA',\n",
       "       'New Orleans-Metairie, LA MSA', 'Columbia, SC MSA',\n",
       "       'San Francisco-Oakland-Berkeley, CA MSA',\n",
       "       'Orlando-Kissimmee-Sanford, FL MSA',\n",
       "       'Bridgeport-Stamford-Norwalk, CT MSA',\n",
       "       'Baltimore-Columbia-Towson, MD MSA',\n",
       "       'Denver-Aurora-Lakewood, CO MSA', 'Milwaukee-Waukesha, WI MSA',\n",
       "       'Oxnard-Thousand Oaks-Ventura, CA MSA', 'Cleveland-Elyria, OH MSA',\n",
       "       'Austin-Round Rock-Georgetown, TX MSA', 'Oklahoma City, OK MSA',\n",
       "       'Dayton-Kettering, OH MSA', 'Bakersfield, CA MSA',\n",
       "       'Detroit-Warren-Dearborn, MI MSA',\n",
       "       'Minneapolis-St. Paul-Bloomington, MN-WI MSA',\n",
       "       'Baton Rouge, LA MSA', 'Richmond, VA MSA',\n",
       "       'San Antonio-New Braunfels, TX MSA', 'Birmingham-Hoover, AL MSA',\n",
       "       'Kansas City, MO-KS MSA', 'St. Louis, MO-IL MSA',\n",
       "       'New Haven-Milford, CT MSA', 'Sacramento–Roseville–Folsom, CA MSA',\n",
       "       'Rochester, NY MSA',\n",
       "       'Virginia Beach-Norfolk-Newport News, VA-NC MSA',\n",
       "       'Raleigh-Cary, NC MSA', 'Greensboro-High Point, NC MSA',\n",
       "       'Colorado Springs, CO MSA', 'Stockton, CA MSA',\n",
       "       'Salt Lake City, UT MSA', 'Tucson, AZ MSA',\n",
       "       'Charleston-North Charleston, SC MSA',\n",
       "       'Cape Coral-Fort Myers, FL MSA', 0], dtype=object)"
      ]
     },
     "execution_count": 51,
     "metadata": {},
     "output_type": "execute_result"
    }
   ],
   "source": [
    "final_merged_data['city'].unique() # check the unique value in city"
   ]
  },
  {
   "cell_type": "markdown",
   "metadata": {},
   "source": [
    "- From this list, the specific states that are NY and NJ, and any multi-state area that has 'NY-NJ' will be categorised into 'ny-nj'. Other than that, the areas will be categorized as 'other'"
   ]
  },
  {
   "cell_type": "code",
   "execution_count": 52,
   "metadata": {},
   "outputs": [],
   "source": [
    "def region(city):\n",
    "    if pd.isna(city) or city == '0':  # Check if the city is NaN or '0'\n",
    "        return 'other'\n",
    "    \n",
    "    if isinstance(city, str):  # Check if the value is a string\n",
    "        no_commas = city.split(\",\")  # Split the city string into fragments using commas\n",
    "        for entry in no_commas:\n",
    "            if ('NY-NJ' in entry) or (entry == 'NY') or (entry == 'NJ'):\n",
    "                return 'ny-nj'\n",
    "    \n",
    "    return 'other'\n",
    "\n",
    "final_merged_data['region'] = final_merged_data['city'].apply(region)"
   ]
  },
  {
   "cell_type": "code",
   "execution_count": 53,
   "metadata": {},
   "outputs": [
    {
     "data": {
      "text/html": [
       "<div>\n",
       "<style scoped>\n",
       "    .dataframe tbody tr th:only-of-type {\n",
       "        vertical-align: middle;\n",
       "    }\n",
       "\n",
       "    .dataframe tbody tr th {\n",
       "        vertical-align: top;\n",
       "    }\n",
       "\n",
       "    .dataframe thead th {\n",
       "        text-align: right;\n",
       "    }\n",
       "</style>\n",
       "<table border=\"1\" class=\"dataframe\">\n",
       "  <thead>\n",
       "    <tr style=\"text-align: right;\">\n",
       "      <th></th>\n",
       "      <th>messages_included</th>\n",
       "      <th>gb_per_month_included</th>\n",
       "      <th>minutes_included</th>\n",
       "      <th>usd_monthly_pay</th>\n",
       "      <th>usd_per_gb</th>\n",
       "      <th>usd_per_message</th>\n",
       "      <th>usd_per_minute</th>\n",
       "      <th>plan_name</th>\n",
       "      <th>user_id</th>\n",
       "      <th>first_name</th>\n",
       "      <th>...</th>\n",
       "      <th>reg_date</th>\n",
       "      <th>plan</th>\n",
       "      <th>churn_date</th>\n",
       "      <th>month</th>\n",
       "      <th>number_calls_per_month</th>\n",
       "      <th>total_minutes_per_month</th>\n",
       "      <th>number_messages_per_month</th>\n",
       "      <th>gb_used_per_month</th>\n",
       "      <th>monthly_profit</th>\n",
       "      <th>region</th>\n",
       "    </tr>\n",
       "  </thead>\n",
       "  <tbody>\n",
       "    <tr>\n",
       "      <th>0</th>\n",
       "      <td>50.0</td>\n",
       "      <td>15.0</td>\n",
       "      <td>500.0</td>\n",
       "      <td>20.0</td>\n",
       "      <td>10.0</td>\n",
       "      <td>0.03</td>\n",
       "      <td>0.03</td>\n",
       "      <td>surf</td>\n",
       "      <td>1001</td>\n",
       "      <td>Mickey</td>\n",
       "      <td>...</td>\n",
       "      <td>2018-08-13 00:00:00</td>\n",
       "      <td>surf</td>\n",
       "      <td>Ongoing</td>\n",
       "      <td>August</td>\n",
       "      <td>27.0</td>\n",
       "      <td>182.0</td>\n",
       "      <td>30.0</td>\n",
       "      <td>21.0</td>\n",
       "      <td>60.00</td>\n",
       "      <td>other</td>\n",
       "    </tr>\n",
       "    <tr>\n",
       "      <th>1</th>\n",
       "      <td>50.0</td>\n",
       "      <td>15.0</td>\n",
       "      <td>500.0</td>\n",
       "      <td>20.0</td>\n",
       "      <td>10.0</td>\n",
       "      <td>0.03</td>\n",
       "      <td>0.03</td>\n",
       "      <td>surf</td>\n",
       "      <td>1001</td>\n",
       "      <td>Mickey</td>\n",
       "      <td>...</td>\n",
       "      <td>2018-08-13 00:00:00</td>\n",
       "      <td>surf</td>\n",
       "      <td>Ongoing</td>\n",
       "      <td>December</td>\n",
       "      <td>56.0</td>\n",
       "      <td>412.0</td>\n",
       "      <td>44.0</td>\n",
       "      <td>55.0</td>\n",
       "      <td>400.00</td>\n",
       "      <td>other</td>\n",
       "    </tr>\n",
       "    <tr>\n",
       "      <th>2</th>\n",
       "      <td>50.0</td>\n",
       "      <td>15.0</td>\n",
       "      <td>500.0</td>\n",
       "      <td>20.0</td>\n",
       "      <td>10.0</td>\n",
       "      <td>0.03</td>\n",
       "      <td>0.03</td>\n",
       "      <td>surf</td>\n",
       "      <td>1001</td>\n",
       "      <td>Mickey</td>\n",
       "      <td>...</td>\n",
       "      <td>2018-08-13 00:00:00</td>\n",
       "      <td>surf</td>\n",
       "      <td>Ongoing</td>\n",
       "      <td>November</td>\n",
       "      <td>64.0</td>\n",
       "      <td>426.0</td>\n",
       "      <td>36.0</td>\n",
       "      <td>49.0</td>\n",
       "      <td>340.00</td>\n",
       "      <td>other</td>\n",
       "    </tr>\n",
       "    <tr>\n",
       "      <th>3</th>\n",
       "      <td>50.0</td>\n",
       "      <td>15.0</td>\n",
       "      <td>500.0</td>\n",
       "      <td>20.0</td>\n",
       "      <td>10.0</td>\n",
       "      <td>0.03</td>\n",
       "      <td>0.03</td>\n",
       "      <td>surf</td>\n",
       "      <td>1001</td>\n",
       "      <td>Mickey</td>\n",
       "      <td>...</td>\n",
       "      <td>2018-08-13 00:00:00</td>\n",
       "      <td>surf</td>\n",
       "      <td>Ongoing</td>\n",
       "      <td>October</td>\n",
       "      <td>65.0</td>\n",
       "      <td>393.0</td>\n",
       "      <td>53.0</td>\n",
       "      <td>50.0</td>\n",
       "      <td>350.09</td>\n",
       "      <td>other</td>\n",
       "    </tr>\n",
       "    <tr>\n",
       "      <th>4</th>\n",
       "      <td>50.0</td>\n",
       "      <td>15.0</td>\n",
       "      <td>500.0</td>\n",
       "      <td>20.0</td>\n",
       "      <td>10.0</td>\n",
       "      <td>0.03</td>\n",
       "      <td>0.03</td>\n",
       "      <td>surf</td>\n",
       "      <td>1001</td>\n",
       "      <td>Mickey</td>\n",
       "      <td>...</td>\n",
       "      <td>2018-08-13 00:00:00</td>\n",
       "      <td>surf</td>\n",
       "      <td>Ongoing</td>\n",
       "      <td>September</td>\n",
       "      <td>49.0</td>\n",
       "      <td>315.0</td>\n",
       "      <td>44.0</td>\n",
       "      <td>41.0</td>\n",
       "      <td>260.00</td>\n",
       "      <td>other</td>\n",
       "    </tr>\n",
       "    <tr>\n",
       "      <th>...</th>\n",
       "      <td>...</td>\n",
       "      <td>...</td>\n",
       "      <td>...</td>\n",
       "      <td>...</td>\n",
       "      <td>...</td>\n",
       "      <td>...</td>\n",
       "      <td>...</td>\n",
       "      <td>...</td>\n",
       "      <td>...</td>\n",
       "      <td>...</td>\n",
       "      <td>...</td>\n",
       "      <td>...</td>\n",
       "      <td>...</td>\n",
       "      <td>...</td>\n",
       "      <td>...</td>\n",
       "      <td>...</td>\n",
       "      <td>...</td>\n",
       "      <td>...</td>\n",
       "      <td>...</td>\n",
       "      <td>...</td>\n",
       "      <td>...</td>\n",
       "    </tr>\n",
       "    <tr>\n",
       "      <th>2288</th>\n",
       "      <td>0.0</td>\n",
       "      <td>0.0</td>\n",
       "      <td>0.0</td>\n",
       "      <td>0.0</td>\n",
       "      <td>0.0</td>\n",
       "      <td>0.00</td>\n",
       "      <td>0.00</td>\n",
       "      <td>0</td>\n",
       "      <td>1349</td>\n",
       "      <td>0</td>\n",
       "      <td>...</td>\n",
       "      <td>0</td>\n",
       "      <td>0</td>\n",
       "      <td>0</td>\n",
       "      <td>October</td>\n",
       "      <td>0.0</td>\n",
       "      <td>0.0</td>\n",
       "      <td>76.0</td>\n",
       "      <td>27.0</td>\n",
       "      <td>0.00</td>\n",
       "      <td>other</td>\n",
       "    </tr>\n",
       "    <tr>\n",
       "      <th>2289</th>\n",
       "      <td>0.0</td>\n",
       "      <td>0.0</td>\n",
       "      <td>0.0</td>\n",
       "      <td>0.0</td>\n",
       "      <td>0.0</td>\n",
       "      <td>0.00</td>\n",
       "      <td>0.00</td>\n",
       "      <td>0</td>\n",
       "      <td>1361</td>\n",
       "      <td>0</td>\n",
       "      <td>...</td>\n",
       "      <td>0</td>\n",
       "      <td>0</td>\n",
       "      <td>0</td>\n",
       "      <td>May</td>\n",
       "      <td>0.0</td>\n",
       "      <td>0.0</td>\n",
       "      <td>2.0</td>\n",
       "      <td>7.0</td>\n",
       "      <td>0.00</td>\n",
       "      <td>other</td>\n",
       "    </tr>\n",
       "    <tr>\n",
       "      <th>2290</th>\n",
       "      <td>0.0</td>\n",
       "      <td>0.0</td>\n",
       "      <td>0.0</td>\n",
       "      <td>0.0</td>\n",
       "      <td>0.0</td>\n",
       "      <td>0.00</td>\n",
       "      <td>0.00</td>\n",
       "      <td>0</td>\n",
       "      <td>1482</td>\n",
       "      <td>0</td>\n",
       "      <td>...</td>\n",
       "      <td>0</td>\n",
       "      <td>0</td>\n",
       "      <td>0</td>\n",
       "      <td>October</td>\n",
       "      <td>0.0</td>\n",
       "      <td>0.0</td>\n",
       "      <td>2.0</td>\n",
       "      <td>0.0</td>\n",
       "      <td>0.00</td>\n",
       "      <td>other</td>\n",
       "    </tr>\n",
       "    <tr>\n",
       "      <th>2291</th>\n",
       "      <td>0.0</td>\n",
       "      <td>0.0</td>\n",
       "      <td>0.0</td>\n",
       "      <td>0.0</td>\n",
       "      <td>0.0</td>\n",
       "      <td>0.00</td>\n",
       "      <td>0.00</td>\n",
       "      <td>0</td>\n",
       "      <td>1108</td>\n",
       "      <td>0</td>\n",
       "      <td>...</td>\n",
       "      <td>0</td>\n",
       "      <td>0</td>\n",
       "      <td>0</td>\n",
       "      <td>December</td>\n",
       "      <td>0.0</td>\n",
       "      <td>0.0</td>\n",
       "      <td>0.0</td>\n",
       "      <td>2.0</td>\n",
       "      <td>0.00</td>\n",
       "      <td>other</td>\n",
       "    </tr>\n",
       "    <tr>\n",
       "      <th>2292</th>\n",
       "      <td>0.0</td>\n",
       "      <td>0.0</td>\n",
       "      <td>0.0</td>\n",
       "      <td>0.0</td>\n",
       "      <td>0.0</td>\n",
       "      <td>0.00</td>\n",
       "      <td>0.00</td>\n",
       "      <td>0</td>\n",
       "      <td>1311</td>\n",
       "      <td>0</td>\n",
       "      <td>...</td>\n",
       "      <td>0</td>\n",
       "      <td>0</td>\n",
       "      <td>0</td>\n",
       "      <td>June</td>\n",
       "      <td>0.0</td>\n",
       "      <td>0.0</td>\n",
       "      <td>0.0</td>\n",
       "      <td>7.0</td>\n",
       "      <td>0.00</td>\n",
       "      <td>other</td>\n",
       "    </tr>\n",
       "  </tbody>\n",
       "</table>\n",
       "<p>2293 rows × 23 columns</p>\n",
       "</div>"
      ],
      "text/plain": [
       "      messages_included  gb_per_month_included  minutes_included  \\\n",
       "0                  50.0                   15.0             500.0   \n",
       "1                  50.0                   15.0             500.0   \n",
       "2                  50.0                   15.0             500.0   \n",
       "3                  50.0                   15.0             500.0   \n",
       "4                  50.0                   15.0             500.0   \n",
       "...                 ...                    ...               ...   \n",
       "2288                0.0                    0.0               0.0   \n",
       "2289                0.0                    0.0               0.0   \n",
       "2290                0.0                    0.0               0.0   \n",
       "2291                0.0                    0.0               0.0   \n",
       "2292                0.0                    0.0               0.0   \n",
       "\n",
       "      usd_monthly_pay  usd_per_gb  usd_per_message  usd_per_minute plan_name  \\\n",
       "0                20.0        10.0             0.03            0.03      surf   \n",
       "1                20.0        10.0             0.03            0.03      surf   \n",
       "2                20.0        10.0             0.03            0.03      surf   \n",
       "3                20.0        10.0             0.03            0.03      surf   \n",
       "4                20.0        10.0             0.03            0.03      surf   \n",
       "...               ...         ...              ...             ...       ...   \n",
       "2288              0.0         0.0             0.00            0.00         0   \n",
       "2289              0.0         0.0             0.00            0.00         0   \n",
       "2290              0.0         0.0             0.00            0.00         0   \n",
       "2291              0.0         0.0             0.00            0.00         0   \n",
       "2292              0.0         0.0             0.00            0.00         0   \n",
       "\n",
       "      user_id first_name  ...             reg_date  plan churn_date  \\\n",
       "0        1001     Mickey  ...  2018-08-13 00:00:00  surf    Ongoing   \n",
       "1        1001     Mickey  ...  2018-08-13 00:00:00  surf    Ongoing   \n",
       "2        1001     Mickey  ...  2018-08-13 00:00:00  surf    Ongoing   \n",
       "3        1001     Mickey  ...  2018-08-13 00:00:00  surf    Ongoing   \n",
       "4        1001     Mickey  ...  2018-08-13 00:00:00  surf    Ongoing   \n",
       "...       ...        ...  ...                  ...   ...        ...   \n",
       "2288     1349          0  ...                    0     0          0   \n",
       "2289     1361          0  ...                    0     0          0   \n",
       "2290     1482          0  ...                    0     0          0   \n",
       "2291     1108          0  ...                    0     0          0   \n",
       "2292     1311          0  ...                    0     0          0   \n",
       "\n",
       "          month number_calls_per_month total_minutes_per_month  \\\n",
       "0        August                   27.0                   182.0   \n",
       "1      December                   56.0                   412.0   \n",
       "2      November                   64.0                   426.0   \n",
       "3       October                   65.0                   393.0   \n",
       "4     September                   49.0                   315.0   \n",
       "...         ...                    ...                     ...   \n",
       "2288    October                    0.0                     0.0   \n",
       "2289        May                    0.0                     0.0   \n",
       "2290    October                    0.0                     0.0   \n",
       "2291   December                    0.0                     0.0   \n",
       "2292       June                    0.0                     0.0   \n",
       "\n",
       "     number_messages_per_month  gb_used_per_month  monthly_profit  region  \n",
       "0                         30.0               21.0           60.00   other  \n",
       "1                         44.0               55.0          400.00   other  \n",
       "2                         36.0               49.0          340.00   other  \n",
       "3                         53.0               50.0          350.09   other  \n",
       "4                         44.0               41.0          260.00   other  \n",
       "...                        ...                ...             ...     ...  \n",
       "2288                      76.0               27.0            0.00   other  \n",
       "2289                       2.0                7.0            0.00   other  \n",
       "2290                       2.0                0.0            0.00   other  \n",
       "2291                       0.0                2.0            0.00   other  \n",
       "2292                       0.0                7.0            0.00   other  \n",
       "\n",
       "[2293 rows x 23 columns]"
      ]
     },
     "execution_count": 53,
     "metadata": {},
     "output_type": "execute_result"
    }
   ],
   "source": [
    "final_merged_data"
   ]
  },
  {
   "cell_type": "code",
   "execution_count": 54,
   "metadata": {},
   "outputs": [
    {
     "data": {
      "text/plain": [
       "<AxesSubplot:>"
      ]
     },
     "execution_count": 54,
     "metadata": {},
     "output_type": "execute_result"
    },
    {
     "data": {
      "image/png": "[encoded data removed]",
      "text/plain": [
       "<Figure size 1800x720 with 2 Axes>"
      ]
     },
     "metadata": {
      "needs_background": "light"
     },
     "output_type": "display_data"
    }
   ],
   "source": [
    "msno.matrix(final_merged_data) # check the missing values in 'final_merged_data'"
   ]
  },
  {
   "cell_type": "markdown",
   "metadata": {},
   "source": [
    "<a id=\"20\"></a> \n",
    "# Stage 3: Exploratory Data Analysis\n",
    "1. Surf: minutes, messages, and volume of data users of each plan requires per month will be analyzed\n",
    "2. Ultimate: minutes, messages, and volume of data users of each plan requires per month will be analyzed\n",
    "3. Note: To achieve above, slices for 'surf' and 'ultimate' will be needed to be create"
   ]
  },
  {
   "cell_type": "markdown",
   "metadata": {},
   "source": [
    "<a id=\"21\"></a> \n",
    "## (1) Analyzing the behavior of 'surf' user"
   ]
  },
  {
   "cell_type": "code",
   "execution_count": 55,
   "metadata": {},
   "outputs": [
    {
     "name": "stdout",
     "output_type": "stream",
     "text": [
      "<class 'pandas.core.frame.DataFrame'>\n",
      "Int64Index: 1545 entries, 0 to 1544\n",
      "Data columns (total 23 columns):\n",
      " #   Column                     Non-Null Count  Dtype  \n",
      "---  ------                     --------------  -----  \n",
      " 0   messages_included          1545 non-null   float64\n",
      " 1   gb_per_month_included      1545 non-null   float64\n",
      " 2   minutes_included           1545 non-null   float64\n",
      " 3   usd_monthly_pay            1545 non-null   float64\n",
      " 4   usd_per_gb                 1545 non-null   float64\n",
      " 5   usd_per_message            1545 non-null   float64\n",
      " 6   usd_per_minute             1545 non-null   float64\n",
      " 7   plan_name                  1545 non-null   object \n",
      " 8   user_id                    1545 non-null   int64  \n",
      " 9   first_name                 1545 non-null   object \n",
      " 10  last_name                  1545 non-null   object \n",
      " 11  age                        1545 non-null   float64\n",
      " 12  city                       1545 non-null   object \n",
      " 13  reg_date                   1545 non-null   object \n",
      " 14  plan                       1545 non-null   object \n",
      " 15  churn_date                 1545 non-null   object \n",
      " 16  month                      1545 non-null   object \n",
      " 17  number_calls_per_month     1545 non-null   float64\n",
      " 18  total_minutes_per_month    1545 non-null   float64\n",
      " 19  number_messages_per_month  1545 non-null   float64\n",
      " 20  gb_used_per_month          1545 non-null   float64\n",
      " 21  monthly_profit             1545 non-null   float64\n",
      " 22  region                     1545 non-null   object \n",
      "dtypes: float64(13), int64(1), object(9)\n",
      "memory usage: 289.7+ KB\n"
     ]
    }
   ],
   "source": [
    "surf_slice = final_merged_data.query('plan == \"surf\"')\n",
    "# make a slice of data where the plan column value is surf\n",
    "\n",
    "surf_slice.info(verbose=True) "
   ]
  },
  {
   "cell_type": "markdown",
   "metadata": {},
   "source": [
    "<a id=\"22\"></a> \n",
    "### Minutes per month analysis"
   ]
  },
  {
   "cell_type": "code",
   "execution_count": 56,
   "metadata": {},
   "outputs": [
    {
     "data": {
      "text/plain": [
       "count    1545.000000\n",
       "mean      436.519741\n",
       "std       229.283805\n",
       "min         0.000000\n",
       "25%       279.000000\n",
       "50%       430.000000\n",
       "75%       579.000000\n",
       "max      1510.000000\n",
       "Name: total_minutes_per_month, dtype: float64"
      ]
     },
     "execution_count": 56,
     "metadata": {},
     "output_type": "execute_result"
    }
   ],
   "source": [
    "surf_slice['total_minutes_per_month'].describe() "
   ]
  },
  {
   "cell_type": "code",
   "execution_count": 57,
   "metadata": {},
   "outputs": [
    {
     "data": {
      "text/plain": [
       "52537.03666530514"
      ]
     },
     "execution_count": 57,
     "metadata": {},
     "output_type": "execute_result"
    }
   ],
   "source": [
    "np.var(surf_slice['total_minutes_per_month']) # finds the variance of the total_minutes_per_month column"
   ]
  },
  {
   "cell_type": "code",
   "execution_count": 58,
   "metadata": {},
   "outputs": [
    {
     "data": {
      "image/png": "[encoded data removed]",
      "text/plain": [
       "<Figure size 432x288 with 1 Axes>"
      ]
     },
     "metadata": {
      "needs_background": "light"
     },
     "output_type": "display_data"
    }
   ],
   "source": [
    "surf_slice['total_minutes_per_month'].hist(bins=15) \n",
    "# plots a histogram with 15 bins for the total_minutes_per_month column\n",
    "\n",
    "plt.title('Minutes per month - Surf')\n",
    "\n",
    "plt.show() "
   ]
  },
  {
   "cell_type": "markdown",
   "metadata": {},
   "source": [
    "- It can be mentioned that the majority of surf plan users make calls ranging from 200 minutes to 650 minutes, with a notable peak around 350 minutes. A gradual decline is noticeable on both ends of this range. Notably, the mean exceeds the median, indicating a positive skew or a right skew in the histogram.\n"
   ]
  },
  {
   "cell_type": "markdown",
   "metadata": {},
   "source": [
    "<a id=\"23\"></a> \n",
    "### Messages per month analysis"
   ]
  },
  {
   "cell_type": "code",
   "execution_count": 59,
   "metadata": {},
   "outputs": [
    {
     "data": {
      "text/plain": [
       "count    1545.000000\n",
       "mean       30.897735\n",
       "std        33.644455\n",
       "min         0.000000\n",
       "25%         3.000000\n",
       "50%        24.000000\n",
       "75%        46.000000\n",
       "max       266.000000\n",
       "Name: number_messages_per_month, dtype: float64"
      ]
     },
     "execution_count": 59,
     "metadata": {},
     "output_type": "execute_result"
    }
   ],
   "source": [
    "surf_slice['number_messages_per_month'].describe() "
   ]
  },
  {
   "cell_type": "code",
   "execution_count": 60,
   "metadata": {},
   "outputs": [
    {
     "data": {
      "text/plain": [
       "1131.2167262596747"
      ]
     },
     "execution_count": 60,
     "metadata": {},
     "output_type": "execute_result"
    }
   ],
   "source": [
    "np.var(surf_slice['number_messages_per_month']) "
   ]
  },
  {
   "cell_type": "code",
   "execution_count": 61,
   "metadata": {},
   "outputs": [
    {
     "data": {
      "image/png": "[encoded data removed]",
      "text/plain": [
       "<Figure size 432x288 with 1 Axes>"
      ]
     },
     "metadata": {
      "needs_background": "light"
     },
     "output_type": "display_data"
    }
   ],
   "source": [
    "surf_slice['number_messages_per_month'].hist(bins=15)\n",
    "plt.title('Messages per month - Surf')\n",
    "plt.show()"
   ]
  },
  {
   "cell_type": "markdown",
   "metadata": {},
   "source": [
    "- It can be observed that a consistent decline, with the peak occurring between 0 and approximately 10 messages per month. This suggests that more individuals are texting less frequently, while fewer people are texting more frequently."
   ]
  },
  {
   "cell_type": "markdown",
   "metadata": {},
   "source": [
    "<a id=\"24\"></a> \n",
    "### Data Volume analysis"
   ]
  },
  {
   "cell_type": "code",
   "execution_count": 62,
   "metadata": {},
   "outputs": [
    {
     "data": {
      "text/plain": [
       "count    1545.000000\n",
       "mean       40.166990\n",
       "std        17.642112\n",
       "min         0.000000\n",
       "25%        31.000000\n",
       "50%        42.000000\n",
       "75%        52.000000\n",
       "max       132.000000\n",
       "Name: gb_used_per_month, dtype: float64"
      ]
     },
     "execution_count": 62,
     "metadata": {},
     "output_type": "execute_result"
    }
   ],
   "source": [
    "surf_slice['gb_used_per_month'].describe() "
   ]
  },
  {
   "cell_type": "code",
   "execution_count": 63,
   "metadata": {},
   "outputs": [
    {
     "data": {
      "text/plain": [
       "311.04266440443644"
      ]
     },
     "execution_count": 63,
     "metadata": {},
     "output_type": "execute_result"
    }
   ],
   "source": [
    "np.var(surf_slice['gb_used_per_month'])"
   ]
  },
  {
   "cell_type": "code",
   "execution_count": 64,
   "metadata": {},
   "outputs": [
    {
     "data": {
      "image/png": "[encoded data removed]",
      "text/plain": [
       "<Figure size 432x288 with 1 Axes>"
      ]
     },
     "metadata": {
      "needs_background": "light"
     },
     "output_type": "display_data"
    }
   ],
   "source": [
    "surf_slice['gb_used_per_month'].hist(bins=15)\n",
    "plt.title('GB per month - Surf')\n",
    "plt.show()"
   ]
  },
  {
   "cell_type": "markdown",
   "metadata": {},
   "source": [
    "- It can be observed that there are a prominent peak around 35GB per month, with usual usage falling between approximately 30GB and 50GB. An outlier is evident in the histogram, indicating that two or three individuals utilize around 80GB monthly. The disparity between the mean and median is minimal, suggesting that the histogram appears to have no skew. However, upon excluding the outliers (approximately 80GB), a more pronounced negative skew can be observed."
   ]
  },
  {
   "cell_type": "markdown",
   "metadata": {},
   "source": [
    "<a id=\"25\"></a> \n",
    "## (2) Analyzing the behavior of 'ultimate' user"
   ]
  },
  {
   "cell_type": "code",
   "execution_count": 65,
   "metadata": {},
   "outputs": [
    {
     "name": "stdout",
     "output_type": "stream",
     "text": [
      "<class 'pandas.core.frame.DataFrame'>\n",
      "Int64Index: 713 entries, 1545 to 2257\n",
      "Data columns (total 23 columns):\n",
      " #   Column                     Non-Null Count  Dtype  \n",
      "---  ------                     --------------  -----  \n",
      " 0   messages_included          713 non-null    float64\n",
      " 1   gb_per_month_included      713 non-null    float64\n",
      " 2   minutes_included           713 non-null    float64\n",
      " 3   usd_monthly_pay            713 non-null    float64\n",
      " 4   usd_per_gb                 713 non-null    float64\n",
      " 5   usd_per_message            713 non-null    float64\n",
      " 6   usd_per_minute             713 non-null    float64\n",
      " 7   plan_name                  713 non-null    object \n",
      " 8   user_id                    713 non-null    int64  \n",
      " 9   first_name                 713 non-null    object \n",
      " 10  last_name                  713 non-null    object \n",
      " 11  age                        713 non-null    float64\n",
      " 12  city                       713 non-null    object \n",
      " 13  reg_date                   713 non-null    object \n",
      " 14  plan                       713 non-null    object \n",
      " 15  churn_date                 713 non-null    object \n",
      " 16  month                      713 non-null    object \n",
      " 17  number_calls_per_month     713 non-null    float64\n",
      " 18  total_minutes_per_month    713 non-null    float64\n",
      " 19  number_messages_per_month  713 non-null    float64\n",
      " 20  gb_used_per_month          713 non-null    float64\n",
      " 21  monthly_profit             713 non-null    float64\n",
      " 22  region                     713 non-null    object \n",
      "dtypes: float64(13), int64(1), object(9)\n",
      "memory usage: 133.7+ KB\n"
     ]
    }
   ],
   "source": [
    "ultimate_slice = final_merged_data.query('plan == \"ultimate\"')\n",
    "# make a slice of data where the plan column value is ultimate\n",
    "\n",
    "ultimate_slice.info(verbose=True) "
   ]
  },
  {
   "cell_type": "markdown",
   "metadata": {},
   "source": [
    "<a id=\"26\"></a> \n",
    "### Minutes per month analysis"
   ]
  },
  {
   "cell_type": "code",
   "execution_count": 66,
   "metadata": {},
   "outputs": [
    {
     "data": {
      "text/plain": [
       "count     713.000000\n",
       "mean      434.676017\n",
       "std       237.852123\n",
       "min         0.000000\n",
       "25%       263.000000\n",
       "50%       425.000000\n",
       "75%       566.000000\n",
       "max      1369.000000\n",
       "Name: total_minutes_per_month, dtype: float64"
      ]
     },
     "execution_count": 66,
     "metadata": {},
     "output_type": "execute_result"
    }
   ],
   "source": [
    "ultimate_slice['total_minutes_per_month'].describe() "
   ]
  },
  {
   "cell_type": "code",
   "execution_count": 67,
   "metadata": {},
   "outputs": [
    {
     "data": {
      "text/plain": [
       "56494.28633925357"
      ]
     },
     "execution_count": 67,
     "metadata": {},
     "output_type": "execute_result"
    }
   ],
   "source": [
    "np.var(ultimate_slice['total_minutes_per_month'])"
   ]
  },
  {
   "cell_type": "code",
   "execution_count": 68,
   "metadata": {},
   "outputs": [
    {
     "data": {
      "image/png": "[encoded data removed]",
      "text/plain": [
       "<Figure size 432x288 with 1 Axes>"
      ]
     },
     "metadata": {
      "needs_background": "light"
     },
     "output_type": "display_data"
    }
   ],
   "source": [
    "ultimate_slice['total_minutes_per_month'].hist(bins=15)\n",
    "plt.title('Minutes per month - Ultimate')\n",
    "plt.show()"
   ]
  },
  {
   "cell_type": "markdown",
   "metadata": {},
   "source": [
    "- It can be observed that most of the users spend around between 200 and 500 minutes a month. From the histogram, it's evident that anything over 750 falls into outlier territory, and their outlier territory is more densely populated compared to that of the surf users. Upon removing the outliers, a more pronounced negative skew can be observed."
   ]
  },
  {
   "cell_type": "markdown",
   "metadata": {},
   "source": [
    "<a id=\"27\"></a> \n",
    "### Messages per month analysis"
   ]
  },
  {
   "cell_type": "code",
   "execution_count": 69,
   "metadata": {},
   "outputs": [
    {
     "data": {
      "text/plain": [
       "count    713.000000\n",
       "mean      37.725105\n",
       "std       34.787116\n",
       "min        0.000000\n",
       "25%        7.000000\n",
       "50%       30.000000\n",
       "75%       61.000000\n",
       "max      166.000000\n",
       "Name: number_messages_per_month, dtype: float64"
      ]
     },
     "execution_count": 69,
     "metadata": {},
     "output_type": "execute_result"
    }
   ],
   "source": [
    "ultimate_slice['number_messages_per_month'].describe() "
   ]
  },
  {
   "cell_type": "code",
   "execution_count": 70,
   "metadata": {},
   "outputs": [
    {
     "data": {
      "text/plain": [
       "1208.4461719735077"
      ]
     },
     "execution_count": 70,
     "metadata": {},
     "output_type": "execute_result"
    }
   ],
   "source": [
    "np.var(ultimate_slice['number_messages_per_month'])"
   ]
  },
  {
   "cell_type": "code",
   "execution_count": 71,
   "metadata": {},
   "outputs": [
    {
     "data": {
      "image/png": "[encoded data removed]",
      "text/plain": [
       "<Figure size 432x288 with 1 Axes>"
      ]
     },
     "metadata": {
      "needs_background": "light"
     },
     "output_type": "display_data"
    }
   ],
   "source": [
    "ultimate_slice['number_messages_per_month'].hist(bins=15)\n",
    "plt.title('Messages per month - Ultimate')\n",
    "plt.show()"
   ]
  },
  {
   "cell_type": "markdown",
   "metadata": {},
   "source": [
    "- It can be mentioned that there are a consistent decline overall, with the peak occurring between 25 to 30 messages. This histogram exhibits more noise compared to its surf counterpart, and an outlier is noticeable around 140 messages."
   ]
  },
  {
   "cell_type": "markdown",
   "metadata": {},
   "source": [
    "<a id=\"28\"></a> \n",
    "### Data Volume analysis"
   ]
  },
  {
   "cell_type": "code",
   "execution_count": 72,
   "metadata": {},
   "outputs": [
    {
     "data": {
      "text/plain": [
       "count    713.000000\n",
       "mean      41.267882\n",
       "std       16.293991\n",
       "min        1.000000\n",
       "25%       32.000000\n",
       "50%       42.000000\n",
       "75%       51.000000\n",
       "max       96.000000\n",
       "Name: gb_used_per_month, dtype: float64"
      ]
     },
     "execution_count": 72,
     "metadata": {},
     "output_type": "execute_result"
    }
   ],
   "source": [
    "ultimate_slice['gb_used_per_month'].describe() "
   ]
  },
  {
   "cell_type": "code",
   "execution_count": 73,
   "metadata": {},
   "outputs": [
    {
     "data": {
      "text/plain": [
       "265.1217875204822"
      ]
     },
     "execution_count": 73,
     "metadata": {},
     "output_type": "execute_result"
    }
   ],
   "source": [
    "np.var(ultimate_slice['gb_used_per_month'])"
   ]
  },
  {
   "cell_type": "code",
   "execution_count": 74,
   "metadata": {},
   "outputs": [
    {
     "data": {
      "image/png": "[encoded data removed]",
      "text/plain": [
       "<Figure size 432x288 with 1 Axes>"
      ]
     },
     "metadata": {
      "needs_background": "light"
     },
     "output_type": "display_data"
    }
   ],
   "source": [
    "ultimate_slice['gb_used_per_month'].hist(bins=15)\n",
    "plt.title('GB per month - Ultimate')\n",
    "plt.show()"
   ]
  },
  {
   "cell_type": "markdown",
   "metadata": {},
   "source": [
    "- A peak of around 40GB which higher than surf data can be observed with the typical range falling between approximately 45 to 50GB. The graph exhibits a negative skew."
   ]
  },
  {
   "cell_type": "markdown",
   "metadata": {},
   "source": [
    " Conclusion\n",
    "- (1) Surf - It can be deduced that most of the surf plan makes call between 200 and 650 minutes, with the data usage of around 30GB TO 50GB. Most of them sending messages 0 to about 10 messages in a month.\n",
    "- (2) Ultimate - It can be observed that most of the surf plan makes call between 200 and 500 minutes, with the data usage of around 30GB TO 50GB. Most of them sending messages 0 to about 10 messages in a month."
   ]
  },
  {
   "cell_type": "markdown",
   "metadata": {},
   "source": [
    "<a id=\"29\"></a> \n",
    "# Stage 4: Hypothesis Testing"
   ]
  },
  {
   "cell_type": "markdown",
   "metadata": {},
   "source": [
    "<a id=\"30\"></a> \n",
    "## Hypothesis Test 1: \"The average profit from users of Ultimate and Surf calling plans differs\""
   ]
  },
  {
   "cell_type": "markdown",
   "metadata": {},
   "source": [
    "- Null hypothesis: \"The average profit from users of Ultimate and Surf calling plans differs\".\n",
    "- Alternate hypothesis: : \"The average profit from users of Ultimate and Surf calling plans are the same\"."
   ]
  },
  {
   "cell_type": "code",
   "execution_count": 75,
   "metadata": {},
   "outputs": [
    {
     "data": {
      "text/plain": [
       "7541.187605853228"
      ]
     },
     "execution_count": 75,
     "metadata": {},
     "output_type": "execute_result"
    }
   ],
   "source": [
    "np.var(ultimate_slice['monthly_profit'])"
   ]
  },
  {
   "cell_type": "code",
   "execution_count": 76,
   "metadata": {},
   "outputs": [
    {
     "data": {
      "text/plain": [
       "25944.065967006467"
      ]
     },
     "execution_count": 76,
     "metadata": {},
     "output_type": "execute_result"
    }
   ],
   "source": [
    "np.var(surf_slice['monthly_profit'])"
   ]
  },
  {
   "cell_type": "markdown",
   "metadata": {},
   "source": [
    "- The difference of variance between both plan quite far from each other"
   ]
  },
  {
   "cell_type": "code",
   "execution_count": 77,
   "metadata": {},
   "outputs": [
    {
     "name": "stdout",
     "output_type": "stream",
     "text": [
      "p-value: 5.283749023560163e-181\n",
      "Accept the null hypothesis\n"
     ]
    }
   ],
   "source": [
    "alpha = 0.05 # setting statistical significance at 5%\n",
    "\n",
    "results_plan = st.ttest_ind(ultimate_slice['monthly_profit'], surf_slice['monthly_profit'], equal_var=False)\n",
    "# performing the test on the monthly_profit columns of both slices specifying that their variances are not\n",
    "# equal\n",
    "\n",
    "print('p-value:', results_plan.pvalue) # prints out the p-value from the test\n",
    "\n",
    "# conditional statement\n",
    "if results_plan.pvalue < alpha:\n",
    "# if the p-value less than alpha meaning the averages are not the same\n",
    "    print('Accept the null hypothesis')\n",
    "else:\n",
    "#if not\n",
    "    print('Reject the null hypothesis')"
   ]
  },
  {
   "cell_type": "markdown",
   "metadata": {},
   "source": [
    "- Null hypothesis are accepted. It can be observed that p-value is lesser than alpha value, in which means that average of both sets are not likely to be equal."
   ]
  },
  {
   "cell_type": "markdown",
   "metadata": {},
   "source": [
    "<a id=\"31\"></a> \n",
    "## Hypothesis Test 2: \"The average revenue from users in the NY-NJ area is different from that of the users from the other regions.\""
   ]
  },
  {
   "cell_type": "markdown",
   "metadata": {},
   "source": [
    "- Null hypothesis: \"The average profit from users in NY-NJ area is different from that of the users from other regions\".\n",
    "- Alternate hypothesis: : \"The average profit from users in NY-NJ area is same as that of the users from other regions\"."
   ]
  },
  {
   "cell_type": "code",
   "execution_count": 78,
   "metadata": {},
   "outputs": [
    {
     "name": "stdout",
     "output_type": "stream",
     "text": [
      "<class 'pandas.core.frame.DataFrame'>\n",
      "Int64Index: 371 entries, 42 to 2244\n",
      "Data columns (total 23 columns):\n",
      " #   Column                     Non-Null Count  Dtype  \n",
      "---  ------                     --------------  -----  \n",
      " 0   messages_included          371 non-null    float64\n",
      " 1   gb_per_month_included      371 non-null    float64\n",
      " 2   minutes_included           371 non-null    float64\n",
      " 3   usd_monthly_pay            371 non-null    float64\n",
      " 4   usd_per_gb                 371 non-null    float64\n",
      " 5   usd_per_message            371 non-null    float64\n",
      " 6   usd_per_minute             371 non-null    float64\n",
      " 7   plan_name                  371 non-null    object \n",
      " 8   user_id                    371 non-null    int64  \n",
      " 9   first_name                 371 non-null    object \n",
      " 10  last_name                  371 non-null    object \n",
      " 11  age                        371 non-null    float64\n",
      " 12  city                       371 non-null    object \n",
      " 13  reg_date                   371 non-null    object \n",
      " 14  plan                       371 non-null    object \n",
      " 15  churn_date                 371 non-null    object \n",
      " 16  month                      371 non-null    object \n",
      " 17  number_calls_per_month     371 non-null    float64\n",
      " 18  total_minutes_per_month    371 non-null    float64\n",
      " 19  number_messages_per_month  371 non-null    float64\n",
      " 20  gb_used_per_month          371 non-null    float64\n",
      " 21  monthly_profit             371 non-null    float64\n",
      " 22  region                     371 non-null    object \n",
      "dtypes: float64(13), int64(1), object(9)\n",
      "memory usage: 69.6+ KB\n"
     ]
    }
   ],
   "source": [
    "nynj_slice = final_merged_data.query('region == \"ny-nj\"')\n",
    "nynj_slice.info(verbose=True)\n",
    "# create slice where region is ny-nj"
   ]
  },
  {
   "cell_type": "code",
   "execution_count": 79,
   "metadata": {},
   "outputs": [
    {
     "name": "stdout",
     "output_type": "stream",
     "text": [
      "<class 'pandas.core.frame.DataFrame'>\n",
      "Int64Index: 1922 entries, 0 to 2292\n",
      "Data columns (total 23 columns):\n",
      " #   Column                     Non-Null Count  Dtype  \n",
      "---  ------                     --------------  -----  \n",
      " 0   messages_included          1922 non-null   float64\n",
      " 1   gb_per_month_included      1922 non-null   float64\n",
      " 2   minutes_included           1922 non-null   float64\n",
      " 3   usd_monthly_pay            1922 non-null   float64\n",
      " 4   usd_per_gb                 1922 non-null   float64\n",
      " 5   usd_per_message            1922 non-null   float64\n",
      " 6   usd_per_minute             1922 non-null   float64\n",
      " 7   plan_name                  1922 non-null   object \n",
      " 8   user_id                    1922 non-null   int64  \n",
      " 9   first_name                 1922 non-null   object \n",
      " 10  last_name                  1922 non-null   object \n",
      " 11  age                        1922 non-null   float64\n",
      " 12  city                       1922 non-null   object \n",
      " 13  reg_date                   1922 non-null   object \n",
      " 14  plan                       1922 non-null   object \n",
      " 15  churn_date                 1922 non-null   object \n",
      " 16  month                      1922 non-null   object \n",
      " 17  number_calls_per_month     1922 non-null   float64\n",
      " 18  total_minutes_per_month    1922 non-null   float64\n",
      " 19  number_messages_per_month  1922 non-null   float64\n",
      " 20  gb_used_per_month          1922 non-null   float64\n",
      " 21  monthly_profit             1922 non-null   float64\n",
      " 22  region                     1922 non-null   object \n",
      "dtypes: float64(13), int64(1), object(9)\n",
      "memory usage: 360.4+ KB\n"
     ]
    }
   ],
   "source": [
    "other_area_slice = final_merged_data.query('region == \"other\"')\n",
    "other_area_slice.info(verbose=True)\n",
    "# create slice where region is other"
   ]
  },
  {
   "cell_type": "code",
   "execution_count": 80,
   "metadata": {},
   "outputs": [
    {
     "data": {
      "text/plain": [
       "23013.73040323159"
      ]
     },
     "execution_count": 80,
     "metadata": {},
     "output_type": "execute_result"
    }
   ],
   "source": [
    "np.var(nynj_slice['monthly_profit'])"
   ]
  },
  {
   "cell_type": "code",
   "execution_count": 81,
   "metadata": {},
   "outputs": [
    {
     "data": {
      "text/plain": [
       "26752.710716358833"
      ]
     },
     "execution_count": 81,
     "metadata": {},
     "output_type": "execute_result"
    }
   ],
   "source": [
    "np.var(other_area_slice['monthly_profit'])"
   ]
  },
  {
   "cell_type": "markdown",
   "metadata": {},
   "source": [
    "- The difference of variance between both area quite far from each other"
   ]
  },
  {
   "cell_type": "code",
   "execution_count": 82,
   "metadata": {},
   "outputs": [
    {
     "name": "stdout",
     "output_type": "stream",
     "text": [
      "p-value: 9.999577488953713e-05\n",
      "Accept the null hypothesis\n"
     ]
    }
   ],
   "source": [
    "alpha = 0.05\n",
    "results_area = st.ttest_ind(nynj_slice['monthly_profit'], other_area_slice['monthly_profit'], equal_var=False)\n",
    "print('p-value:', results_area.pvalue)\n",
    "if results_area.pvalue < alpha:\n",
    "    print('Accept the null hypothesis')\n",
    "else:\n",
    "    print('Reject the null hypothesis')"
   ]
  },
  {
   "cell_type": "markdown",
   "metadata": {},
   "source": [
    "- Null hypothesis are rejected. It can be observed that p-value is more than alpha value, in which means that average of both sets are likely to be equal."
   ]
  },
  {
   "cell_type": "markdown",
   "metadata": {},
   "source": [
    "<a id=\"32\"></a> \n",
    "# Stage 5: General conclusion \n",
    "\n",
    "\n",
    "- It can be analyzed that the minutes per month, messages per month, and data volume per month of the users for both surf and ultimate plans,have similar behaviour. \n",
    "\n",
    "2 t-tests were conducted to test two hypothesis:\n",
    "- Hypothesis 1: Average profit from users of Ultimate and Surf calling plans differs\n",
    "- Hypothesis 2: Average profit from users in NY-NJ area is same as that of the users from other regions"
   ]
  }
 ],
 "metadata": {
  "ExecuteTimeLog": [
   {
    "duration": 828,
    "start_time": "2021-11-16T09:21:11.304Z"
   },
   {
    "duration": 893,
    "start_time": "2021-11-16T09:21:17.728Z"
   },
   {
    "duration": 1150,
    "start_time": "2021-11-16T09:21:29.568Z"
   },
   {
    "duration": 3,
    "start_time": "2021-11-16T09:24:14.495Z"
   },
   {
    "duration": 120,
    "start_time": "2021-11-16T09:24:46.630Z"
   },
   {
    "duration": 3,
    "start_time": "2021-11-16T09:28:27.882Z"
   },
   {
    "duration": 4,
    "start_time": "2021-11-16T09:29:54.281Z"
   },
   {
    "duration": 3,
    "start_time": "2021-11-16T09:30:45.936Z"
   },
   {
    "duration": 4,
    "start_time": "2021-11-16T09:31:06.300Z"
   },
   {
    "duration": 113,
    "start_time": "2021-11-16T09:31:37.208Z"
   },
   {
    "duration": 143,
    "start_time": "2021-11-16T09:31:48.656Z"
   },
   {
    "duration": 98,
    "start_time": "2021-11-16T09:31:55.678Z"
   },
   {
    "duration": 3,
    "start_time": "2021-11-16T09:32:08.535Z"
   },
   {
    "duration": 111,
    "start_time": "2021-11-16T09:32:10.120Z"
   },
   {
    "duration": 3,
    "start_time": "2021-11-16T09:32:15.732Z"
   },
   {
    "duration": 4,
    "start_time": "2021-11-16T09:32:29.423Z"
   },
   {
    "duration": 3,
    "start_time": "2021-11-16T10:03:03.074Z"
   },
   {
    "duration": 3,
    "start_time": "2021-11-16T10:10:01.288Z"
   },
   {
    "duration": 3,
    "start_time": "2021-11-16T10:10:46.923Z"
   },
   {
    "duration": 121,
    "start_time": "2021-11-16T10:37:46.494Z"
   },
   {
    "duration": 125,
    "start_time": "2021-11-16T10:38:20.632Z"
   },
   {
    "duration": 112,
    "start_time": "2021-11-16T10:46:53.001Z"
   },
   {
    "duration": 110,
    "start_time": "2021-11-16T10:48:25.775Z"
   },
   {
    "duration": 3,
    "start_time": "2021-11-16T10:50:18.720Z"
   },
   {
    "duration": 4,
    "start_time": "2021-11-16T10:50:37.649Z"
   },
   {
    "duration": 2,
    "start_time": "2021-11-16T10:50:51.884Z"
   },
   {
    "duration": 3,
    "start_time": "2021-11-16T10:51:56.237Z"
   },
   {
    "duration": 101,
    "start_time": "2021-11-16T10:53:13.791Z"
   },
   {
    "duration": 3,
    "start_time": "2021-11-16T10:55:59.186Z"
   },
   {
    "duration": 3,
    "start_time": "2021-11-16T10:56:10.751Z"
   },
   {
    "duration": 3,
    "start_time": "2021-11-16T10:56:49.038Z"
   },
   {
    "duration": 3,
    "start_time": "2021-11-16T10:56:49.174Z"
   },
   {
    "duration": 4,
    "start_time": "2021-11-16T10:56:49.414Z"
   },
   {
    "duration": 3,
    "start_time": "2021-11-16T10:56:49.680Z"
   },
   {
    "duration": 3,
    "start_time": "2021-11-16T10:56:50.370Z"
   },
   {
    "duration": 114,
    "start_time": "2021-11-16T10:59:34.518Z"
   },
   {
    "duration": 3,
    "start_time": "2021-11-16T11:01:41.201Z"
   },
   {
    "duration": 116,
    "start_time": "2021-11-16T11:01:48.754Z"
   },
   {
    "duration": 3,
    "start_time": "2021-11-16T11:02:16.685Z"
   },
   {
    "duration": 3,
    "start_time": "2021-11-16T11:02:19.479Z"
   },
   {
    "duration": 3,
    "start_time": "2021-11-16T11:02:47.067Z"
   },
   {
    "duration": 3,
    "start_time": "2021-11-16T11:02:49.353Z"
   },
   {
    "duration": 3,
    "start_time": "2021-11-16T11:03:07.835Z"
   },
   {
    "duration": 3,
    "start_time": "2021-11-16T11:03:07.953Z"
   },
   {
    "duration": 112,
    "start_time": "2021-11-16T11:07:52.072Z"
   },
   {
    "duration": 187,
    "start_time": "2021-11-16T11:09:23.468Z"
   },
   {
    "duration": 4,
    "start_time": "2021-11-16T11:10:01.455Z"
   },
   {
    "duration": 3,
    "start_time": "2021-11-16T11:10:05.069Z"
   },
   {
    "duration": 4,
    "start_time": "2021-11-16T11:10:13.376Z"
   },
   {
    "duration": 3,
    "start_time": "2021-11-16T11:10:14.434Z"
   },
   {
    "duration": 3,
    "start_time": "2021-11-16T11:10:22.853Z"
   },
   {
    "duration": 4,
    "start_time": "2021-11-16T11:27:29.279Z"
   },
   {
    "duration": 4,
    "start_time": "2021-11-16T11:29:08.919Z"
   },
   {
    "duration": 118,
    "start_time": "2021-11-16T11:29:46.703Z"
   },
   {
    "duration": 437,
    "start_time": "2021-11-16T11:36:02.181Z"
   },
   {
    "duration": 157,
    "start_time": "2021-11-16T11:36:14.388Z"
   },
   {
    "duration": 207,
    "start_time": "2021-11-16T11:47:15.898Z"
   },
   {
    "duration": 3,
    "start_time": "2021-11-16T11:53:52.092Z"
   },
   {
    "duration": 3,
    "start_time": "2021-11-16T11:53:52.236Z"
   },
   {
    "duration": 3,
    "start_time": "2021-11-16T11:59:12.005Z"
   },
   {
    "duration": 112,
    "start_time": "2021-11-16T12:00:33.446Z"
   },
   {
    "duration": 3,
    "start_time": "2021-11-16T12:02:14.453Z"
   },
   {
    "duration": 3,
    "start_time": "2021-11-16T12:02:39.512Z"
   },
   {
    "duration": 106,
    "start_time": "2021-11-16T12:03:03.460Z"
   },
   {
    "duration": 3,
    "start_time": "2021-11-17T20:37:21.139Z"
   },
   {
    "duration": 3,
    "start_time": "2021-11-17T20:37:22.229Z"
   },
   {
    "duration": 3,
    "start_time": "2021-11-17T20:38:38.806Z"
   },
   {
    "duration": 3,
    "start_time": "2021-11-17T20:38:41.958Z"
   },
   {
    "duration": 3,
    "start_time": "2021-11-17T20:43:46.551Z"
   },
   {
    "duration": 4,
    "start_time": "2021-11-17T20:58:21.835Z"
   },
   {
    "duration": 3,
    "start_time": "2021-11-17T20:59:21.872Z"
   },
   {
    "duration": 4,
    "start_time": "2021-11-17T20:59:45.352Z"
   },
   {
    "duration": 4,
    "start_time": "2021-11-17T20:59:49.646Z"
   },
   {
    "duration": 159,
    "start_time": "2021-11-17T21:02:26.949Z"
   },
   {
    "duration": 3,
    "start_time": "2021-11-17T21:03:53.461Z"
   },
   {
    "duration": 3,
    "start_time": "2021-11-17T21:03:53.694Z"
   },
   {
    "duration": 3,
    "start_time": "2021-11-17T21:05:28.145Z"
   },
   {
    "duration": 116,
    "start_time": "2021-11-17T21:05:57.787Z"
   },
   {
    "duration": 3,
    "start_time": "2021-11-17T21:06:37.993Z"
   },
   {
    "duration": 3,
    "start_time": "2021-11-17T21:06:38.261Z"
   },
   {
    "duration": 3,
    "start_time": "2021-11-17T21:11:54.358Z"
   },
   {
    "duration": 3,
    "start_time": "2021-11-17T21:12:43.846Z"
   },
   {
    "duration": 4,
    "start_time": "2021-11-17T21:13:08.773Z"
   },
   {
    "duration": 3,
    "start_time": "2021-11-17T21:14:44.441Z"
   },
   {
    "duration": 3,
    "start_time": "2021-11-17T21:15:42.059Z"
   },
   {
    "duration": 4,
    "start_time": "2021-11-17T21:15:51.995Z"
   },
   {
    "duration": 3,
    "start_time": "2021-11-17T21:15:53.923Z"
   },
   {
    "duration": 3,
    "start_time": "2021-11-17T21:15:55.282Z"
   },
   {
    "duration": 3,
    "start_time": "2021-11-17T21:16:28.492Z"
   },
   {
    "duration": 3,
    "start_time": "2021-11-17T21:16:32.603Z"
   },
   {
    "duration": 3,
    "start_time": "2021-11-17T21:17:06.941Z"
   },
   {
    "duration": 98,
    "start_time": "2021-11-17T21:18:05.733Z"
   },
   {
    "duration": 4,
    "start_time": "2021-11-17T21:21:35.255Z"
   },
   {
    "duration": 3,
    "start_time": "2021-11-17T21:21:37.804Z"
   },
   {
    "duration": 4,
    "start_time": "2021-11-17T21:23:06.071Z"
   },
   {
    "duration": 3,
    "start_time": "2021-11-17T21:23:24.799Z"
   },
   {
    "duration": 3,
    "start_time": "2021-11-17T21:23:32.591Z"
   },
   {
    "duration": 98,
    "start_time": "2021-11-17T21:28:31.559Z"
   },
   {
    "duration": 3,
    "start_time": "2021-11-17T21:28:45.448Z"
   },
   {
    "duration": 3,
    "start_time": "2021-11-17T21:29:17.303Z"
   },
   {
    "duration": 3,
    "start_time": "2021-11-17T21:29:29.617Z"
   },
   {
    "duration": 3,
    "start_time": "2021-11-17T21:29:32.681Z"
   },
   {
    "duration": 3,
    "start_time": "2021-11-17T21:36:11.474Z"
   },
   {
    "duration": 3,
    "start_time": "2021-11-17T21:36:14.791Z"
   },
   {
    "duration": 3,
    "start_time": "2021-11-17T21:36:53.943Z"
   },
   {
    "duration": 3,
    "start_time": "2021-11-17T21:36:56.165Z"
   },
   {
    "duration": 4,
    "start_time": "2021-11-17T21:37:16.590Z"
   },
   {
    "duration": 3,
    "start_time": "2021-11-17T21:37:22.702Z"
   },
   {
    "duration": 4,
    "start_time": "2021-11-17T21:38:03.479Z"
   },
   {
    "duration": 3,
    "start_time": "2021-11-17T21:38:08.601Z"
   },
   {
    "duration": 3,
    "start_time": "2021-11-17T21:38:12.928Z"
   },
   {
    "duration": 3,
    "start_time": "2021-11-17T21:38:48.896Z"
   },
   {
    "duration": 2,
    "start_time": "2021-11-17T21:38:49.171Z"
   },
   {
    "duration": 4,
    "start_time": "2021-11-17T21:39:57.889Z"
   },
   {
    "duration": 3,
    "start_time": "2021-11-17T21:39:58.057Z"
   },
   {
    "duration": 3,
    "start_time": "2021-11-17T21:41:20.108Z"
   },
   {
    "duration": 3,
    "start_time": "2021-11-17T21:41:20.629Z"
   },
   {
    "duration": 3,
    "start_time": "2021-11-17T21:42:49.136Z"
   },
   {
    "duration": 3,
    "start_time": "2021-11-17T21:43:15.137Z"
   },
   {
    "duration": 4,
    "start_time": "2021-11-17T21:43:16.766Z"
   },
   {
    "duration": 4,
    "start_time": "2021-11-17T21:43:31.711Z"
   },
   {
    "duration": 3,
    "start_time": "2021-11-17T21:43:36.312Z"
   },
   {
    "duration": 4,
    "start_time": "2021-11-17T21:45:08.825Z"
   },
   {
    "duration": 4,
    "start_time": "2021-11-17T21:45:10.119Z"
   },
   {
    "duration": 4,
    "start_time": "2021-11-17T21:45:13.748Z"
   },
   {
    "duration": 3,
    "start_time": "2021-11-17T21:45:22.219Z"
   },
   {
    "duration": 3,
    "start_time": "2021-11-17T21:45:33.412Z"
   },
   {
    "duration": 2,
    "start_time": "2021-11-17T21:46:01.885Z"
   },
   {
    "duration": 3,
    "start_time": "2021-11-17T21:46:03.628Z"
   },
   {
    "duration": 107,
    "start_time": "2021-11-17T21:47:32.512Z"
   },
   {
    "duration": 103,
    "start_time": "2021-11-17T21:50:36.243Z"
   },
   {
    "duration": 3,
    "start_time": "2021-11-18T06:28:31.440Z"
   },
   {
    "duration": 3,
    "start_time": "2021-11-18T06:29:00.168Z"
   },
   {
    "duration": 3,
    "start_time": "2021-11-18T06:31:27.008Z"
   },
   {
    "duration": 2,
    "start_time": "2021-11-18T06:35:34.288Z"
   },
   {
    "duration": 2,
    "start_time": "2021-11-18T06:38:04.527Z"
   }
  ],
  "kernelspec": {
   "display_name": "Python 3 (ipykernel)",
   "language": "python",
   "name": "python3"
  },
  "language_info": {
   "codemirror_mode": {
    "name": "ipython",
    "version": 3
   },
   "file_extension": ".py",
   "mimetype": "text/x-python",
   "name": "python",
   "nbconvert_exporter": "python",
   "pygments_lexer": "ipython3",
   "version": "3.9.5"
  },
  "toc": {
   "base_numbering": 1,
   "nav_menu": {},
   "number_sections": true,
   "sideBar": true,
   "skip_h1_title": false,
   "title_cell": "Table of Contents",
   "title_sidebar": "Contents",
   "toc_cell": false,
   "toc_position": {
    "height": "calc(100% - 180px)",
    "left": "10px",
    "top": "150px",
    "width": "264.395px"
   },
   "toc_section_display": true,
   "toc_window_display": true
  }
 },
 "nbformat": 4,
 "nbformat_minor": 2
}
